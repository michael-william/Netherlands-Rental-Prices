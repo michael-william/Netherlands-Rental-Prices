{
 "cells": [
  {
   "cell_type": "markdown",
   "metadata": {},
   "source": [
    "<font style = bold size = 40 color=darkgreen>Dutch Rental Prices</font><br>\n",
    "*Creating a regression model to predict the rent prices in the Netherlands using data from Fund.nl*<br>\n",
    "**Steps:**<br>\n",
    "1. Importing libraries and reading data\n",
    "2. EDA and re-shaping data for ML pre-processing \n",
    "3. Feature engineering\n",
    "4. Creating model"
   ]
  },
  {
   "cell_type": "markdown",
   "metadata": {},
   "source": [
    "*Predicting the rent prices from Funda in the Netherlands*"
   ]
  },
  {
   "cell_type": "markdown",
   "metadata": {},
   "source": [
    "# <font color=teal>Import data</font>"
   ]
  },
  {
   "cell_type": "code",
   "execution_count": 18,
   "metadata": {},
   "outputs": [
    {
     "data": {
      "text/plain": [
       "20"
      ]
     },
     "execution_count": 18,
     "metadata": {},
     "output_type": "execute_result"
    },
    {
     "data": {
      "text/html": [
       "        <script type=\"text/javascript\">\n",
       "        window.PlotlyConfig = {MathJaxConfig: 'local'};\n",
       "        if (window.MathJax) {MathJax.Hub.Config({SVG: {font: \"STIX-Web\"}});}\n",
       "        if (typeof require !== 'undefined') {\n",
       "        require.undef(\"plotly\");\n",
       "        requirejs.config({\n",
       "            paths: {\n",
       "                'plotly': ['https://cdn.plot.ly/plotly-latest.min']\n",
       "            }\n",
       "        });\n",
       "        require(['plotly'], function(Plotly) {\n",
       "            window._Plotly = Plotly;\n",
       "        });\n",
       "        }\n",
       "        </script>\n",
       "        "
      ]
     },
     "metadata": {},
     "output_type": "display_data"
    }
   ],
   "source": [
    "# Data manipulation\n",
    "import pandas as pd\n",
    "import numpy as np\n",
    "import sidetable as stb\n",
    "\n",
    "#ML libraries\n",
    "from sklearn.preprocessing import MinMaxScaler\n",
    "from sklearn.model_selection import train_test_split\n",
    "from sklearn.model_selection import KFold\n",
    "from sklearn.model_selection import cross_val_score, cross_val_predict, GridSearchCV\n",
    "from sklearn import metrics\n",
    "from sklearn.linear_model import Lasso\n",
    "from sklearn.feature_selection import SelectFromModel\n",
    "\n",
    "# Options for pandas\n",
    "pd.options.display.max_columns\n",
    "pd.options.display.max_rows = 30\n",
    "\n",
    "# Display all cell outputs\n",
    "from IPython.core.interactiveshell import InteractiveShell\n",
    "InteractiveShell.ast_node_interactivity = 'all'\n",
    "\n",
    "from IPython import get_ipython\n",
    "ipython = get_ipython()\n",
    "\n",
    "# autoreload extension\n",
    "if 'autoreload' not in ipython.extension_manager.loaded:\n",
    "    %load_ext autoreload\n",
    "\n",
    "%autoreload 2\n",
    "\n",
    "# Visualizations\n",
    "from matplotlib import pyplot as plt\n",
    "import seaborn as sns\n",
    "import missingno as msno\n",
    "import chart_studio.plotly as py\n",
    "import plotly.graph_objs as go\n",
    "from plotly.offline import iplot, init_notebook_mode\n",
    "init_notebook_mode(connected=True)\n",
    "\n",
    "import dash\n",
    "import dash_core_components as dcc\n",
    "import dash_html_components as html\n",
    "from dash.dependencies import Input,Output"
   ]
  },
  {
   "cell_type": "code",
   "execution_count": 19,
   "metadata": {},
   "outputs": [],
   "source": [
    "# Reading data from Funda.nl\n",
    "#PC\n",
    "#df = pd.read_json('/Users/michaelcondon/Desktop/Projects_files/Data_Science/properties.json', lines=True)\n",
    "\n",
    "#Mac\n",
    "df = pd.read_json(\"/Users/michaelcondon/Documents/GitHub/Amsterdam rentals/Netherlands-Rental-Prices/properties-trim.json\",lines=True)"
   ]
  },
  {
   "cell_type": "markdown",
   "metadata": {},
   "source": [
    "# <font color=teal>EDA and reshaping data</font>"
   ]
  },
  {
   "cell_type": "markdown",
   "metadata": {},
   "source": [
    "> **<font color=brown>Overview</font>**\n",
    "> 1. Dropping non-needed columns\n",
    "> 2. Missing values\n",
    "> 3. All continuous values\n",
    "> 4. Distribution of continuous values\n",
    "> 5. Categorical values\n",
    "> 6. Cardinality of categorical values\n",
    "> 7. Outliers\n",
    "> 8. Relationship between indeendant and dependant variables"
   ]
  },
  {
   "cell_type": "code",
   "execution_count": 13,
   "metadata": {},
   "outputs": [],
   "source": [
    "# Creating copy of main df\n",
    "data = df"
   ]
  },
  {
   "cell_type": "code",
   "execution_count": 14,
   "metadata": {},
   "outputs": [
    {
     "data": {
      "text/html": [
       "<div>\n",
       "<style scoped>\n",
       "    .dataframe tbody tr th:only-of-type {\n",
       "        vertical-align: middle;\n",
       "    }\n",
       "\n",
       "    .dataframe tbody tr th {\n",
       "        vertical-align: top;\n",
       "    }\n",
       "\n",
       "    .dataframe thead th {\n",
       "        text-align: right;\n",
       "    }\n",
       "</style>\n",
       "<table border=\"1\" class=\"dataframe\">\n",
       "  <thead>\n",
       "    <tr style=\"text-align: right;\">\n",
       "      <th></th>\n",
       "      <th>_id</th>\n",
       "      <th>externalId</th>\n",
       "      <th>areaRaw</th>\n",
       "      <th>areaSqm</th>\n",
       "      <th>city</th>\n",
       "      <th>coverImageUrl</th>\n",
       "      <th>crawlStatus</th>\n",
       "      <th>crawledAt</th>\n",
       "      <th>datesPublished</th>\n",
       "      <th>firstSeenAt</th>\n",
       "      <th>...</th>\n",
       "      <th>registrationCostRaw</th>\n",
       "      <th>roommates</th>\n",
       "      <th>shower</th>\n",
       "      <th>smokingInside</th>\n",
       "      <th>toilet</th>\n",
       "      <th>userDisplayName</th>\n",
       "      <th>userId</th>\n",
       "      <th>userLastLoggedOn</th>\n",
       "      <th>userMemberSince</th>\n",
       "      <th>userPhotoUrl</th>\n",
       "    </tr>\n",
       "  </thead>\n",
       "  <tbody>\n",
       "    <tr>\n",
       "      <th>0</th>\n",
       "      <td>{'$oid': '5d2b113a43cbfd7c77a998f4'}</td>\n",
       "      <td>room-1686123</td>\n",
       "      <td>14 m2</td>\n",
       "      <td>14</td>\n",
       "      <td>Rotterdam</td>\n",
       "      <td>https://resources.kamernet.nl/image/913b4b03-5...</td>\n",
       "      <td>done</td>\n",
       "      <td>{'$date': '2019-07-26T22:18:23.018+0000'}</td>\n",
       "      <td>[{'$date': '2019-07-14T11:25:46.511+0000'}, {'...</td>\n",
       "      <td>{'$date': '2019-07-14T11:25:46.511+0000'}</td>\n",
       "      <td>...</td>\n",
       "      <td>\\n                            € 0\\n           ...</td>\n",
       "      <td>5</td>\n",
       "      <td>Shared</td>\n",
       "      <td>No</td>\n",
       "      <td>Shared</td>\n",
       "      <td>Huize west</td>\n",
       "      <td>4680711.0</td>\n",
       "      <td>21-07-2019</td>\n",
       "      <td>26-06-2019</td>\n",
       "      <td>https://resources.kamernet.nl/Content/images/s...</td>\n",
       "    </tr>\n",
       "    <tr>\n",
       "      <th>1</th>\n",
       "      <td>{'$oid': '5d2b113a43cbfd7c77a9991a'}</td>\n",
       "      <td>studio-1691193</td>\n",
       "      <td>30 m2</td>\n",
       "      <td>30</td>\n",
       "      <td>Amsterdam</td>\n",
       "      <td>https://resources.kamernet.nl/image/5e11d6b5-8...</td>\n",
       "      <td>done</td>\n",
       "      <td>{'$date': '2019-08-10T22:28:46.099+0000'}</td>\n",
       "      <td>[{'$date': '2019-07-14T11:25:46.677+0000'}, {'...</td>\n",
       "      <td>{'$date': '2019-07-14T11:25:46.677+0000'}</td>\n",
       "      <td>...</td>\n",
       "      <td>\\n                            € 0\\n           ...</td>\n",
       "      <td>None</td>\n",
       "      <td>Own</td>\n",
       "      <td>No</td>\n",
       "      <td>Own</td>\n",
       "      <td>Cor</td>\n",
       "      <td>1865530.0</td>\n",
       "      <td>20-07-2019</td>\n",
       "      <td>05-01-2012</td>\n",
       "      <td>https://resources.kamernet.nl/Content/images/p...</td>\n",
       "    </tr>\n",
       "  </tbody>\n",
       "</table>\n",
       "<p>2 rows × 61 columns</p>\n",
       "</div>"
      ],
      "text/plain": [
       "                                    _id      externalId areaRaw  areaSqm  \\\n",
       "0  {'$oid': '5d2b113a43cbfd7c77a998f4'}    room-1686123   14 m2       14   \n",
       "1  {'$oid': '5d2b113a43cbfd7c77a9991a'}  studio-1691193   30 m2       30   \n",
       "\n",
       "        city                                      coverImageUrl crawlStatus  \\\n",
       "0  Rotterdam  https://resources.kamernet.nl/image/913b4b03-5...        done   \n",
       "1  Amsterdam  https://resources.kamernet.nl/image/5e11d6b5-8...        done   \n",
       "\n",
       "                                   crawledAt  \\\n",
       "0  {'$date': '2019-07-26T22:18:23.018+0000'}   \n",
       "1  {'$date': '2019-08-10T22:28:46.099+0000'}   \n",
       "\n",
       "                                      datesPublished  \\\n",
       "0  [{'$date': '2019-07-14T11:25:46.511+0000'}, {'...   \n",
       "1  [{'$date': '2019-07-14T11:25:46.677+0000'}, {'...   \n",
       "\n",
       "                                 firstSeenAt  ...  \\\n",
       "0  {'$date': '2019-07-14T11:25:46.511+0000'}  ...   \n",
       "1  {'$date': '2019-07-14T11:25:46.677+0000'}  ...   \n",
       "\n",
       "                                 registrationCostRaw roommates  shower  \\\n",
       "0  \\n                            € 0\\n           ...         5  Shared   \n",
       "1  \\n                            € 0\\n           ...      None     Own   \n",
       "\n",
       "   smokingInside  toilet userDisplayName     userId userLastLoggedOn  \\\n",
       "0             No  Shared      Huize west  4680711.0       21-07-2019   \n",
       "1             No     Own             Cor  1865530.0       20-07-2019   \n",
       "\n",
       "   userMemberSince                                       userPhotoUrl  \n",
       "0       26-06-2019  https://resources.kamernet.nl/Content/images/s...  \n",
       "1       05-01-2012  https://resources.kamernet.nl/Content/images/p...  \n",
       "\n",
       "[2 rows x 61 columns]"
      ]
     },
     "execution_count": 14,
     "metadata": {},
     "output_type": "execute_result"
    }
   ],
   "source": [
    "# Viewing first 2 lines of the dataframe\n",
    "data.head(2)"
   ]
  },
  {
   "cell_type": "code",
   "execution_count": 15,
   "metadata": {},
   "outputs": [
    {
     "name": "stdout",
     "output_type": "stream",
     "text": [
      "<class 'pandas.core.frame.DataFrame'>\n",
      "RangeIndex: 12830 entries, 0 to 12829\n",
      "Data columns (total 61 columns):\n",
      " #   Column                       Non-Null Count  Dtype  \n",
      "---  ------                       --------------  -----  \n",
      " 0   _id                          12830 non-null  object \n",
      " 1   externalId                   12830 non-null  object \n",
      " 2   areaRaw                      12830 non-null  object \n",
      " 3   areaSqm                      12830 non-null  int64  \n",
      " 4   city                         12830 non-null  object \n",
      " 5   coverImageUrl                12830 non-null  object \n",
      " 6   crawlStatus                  12830 non-null  object \n",
      " 7   crawledAt                    12830 non-null  object \n",
      " 8   datesPublished               12830 non-null  object \n",
      " 9   firstSeenAt                  12830 non-null  object \n",
      " 10  furnish                      12830 non-null  object \n",
      " 11  lastSeenAt                   12830 non-null  object \n",
      " 12  latitude                     12830 non-null  float64\n",
      " 13  longitude                    12830 non-null  float64\n",
      " 14  postalCode                   12830 non-null  object \n",
      " 15  postedAgo                    12830 non-null  object \n",
      " 16  propertyType                 12830 non-null  object \n",
      " 17  rawAvailability              12830 non-null  object \n",
      " 18  rent                         12830 non-null  int64  \n",
      " 19  rentDetail                   12830 non-null  object \n",
      " 20  rentRaw                      12830 non-null  object \n",
      " 21  source                       12830 non-null  object \n",
      " 22  title                        12830 non-null  object \n",
      " 23  url                          12830 non-null  object \n",
      " 24  additionalCosts              4912 non-null   float64\n",
      " 25  additionalCostsRaw           12749 non-null  object \n",
      " 26  deposit                      7032 non-null   float64\n",
      " 27  depositRaw                   12749 non-null  object \n",
      " 28  descriptionNonTranslated     12749 non-null  object \n",
      " 29  descriptionNonTranslatedRaw  12749 non-null  object \n",
      " 30  descriptionTranslated        12749 non-null  object \n",
      " 31  descriptionTranslatedRaw     12749 non-null  object \n",
      " 32  detailsCrawledAt             12830 non-null  object \n",
      " 33  energyLabel                  12749 non-null  object \n",
      " 34  gender                       12749 non-null  object \n",
      " 35  internet                     12749 non-null  object \n",
      " 36  isRoomActive                 12749 non-null  object \n",
      " 37  kitchen                      12749 non-null  object \n",
      " 38  living                       12749 non-null  object \n",
      " 39  matchAge                     12749 non-null  object \n",
      " 40  matchAgeBackup               12749 non-null  object \n",
      " 41  matchCapacity                12749 non-null  object \n",
      " 42  matchGender                  12749 non-null  object \n",
      " 43  matchGenderBackup            12749 non-null  object \n",
      " 44  matchLanguages               12749 non-null  object \n",
      " 45  matchStatus                  12749 non-null  object \n",
      " 46  matchStatusBackup            12749 non-null  object \n",
      " 47  pageDescription              12749 non-null  object \n",
      " 48  pageTitle                    12749 non-null  object \n",
      " 49  pets                         12749 non-null  object \n",
      " 50  registrationCost             3667 non-null   float64\n",
      " 51  registrationCostRaw          12749 non-null  object \n",
      " 52  roommates                    12749 non-null  object \n",
      " 53  shower                       12749 non-null  object \n",
      " 54  smokingInside                12749 non-null  object \n",
      " 55  toilet                       12749 non-null  object \n",
      " 56  userDisplayName              12749 non-null  object \n",
      " 57  userId                       12749 non-null  float64\n",
      " 58  userLastLoggedOn             12749 non-null  object \n",
      " 59  userMemberSince              12749 non-null  object \n",
      " 60  userPhotoUrl                 12749 non-null  object \n",
      "dtypes: float64(6), int64(2), object(53)\n",
      "memory usage: 6.0+ MB\n"
     ]
    }
   ],
   "source": [
    "# Reviewing details of the data\n",
    "data.info()"
   ]
  },
  {
   "cell_type": "markdown",
   "metadata": {},
   "source": [
    "***Identified some columns with significant nulls that need to be addressed***"
   ]
  },
  {
   "cell_type": "markdown",
   "metadata": {},
   "source": [
    "> ## <font color=brown>Dropping columns with +50% nulls</font>"
   ]
  },
  {
   "cell_type": "code",
   "execution_count": 16,
   "metadata": {},
   "outputs": [],
   "source": [
    "data = data.drop(['deposit', 'additionalCostsRaw', 'additionalCosts', 'registrationCost'], axis=1)"
   ]
  },
  {
   "cell_type": "markdown",
   "metadata": {},
   "source": [
    "> **<font color=brown>Dropping unneeded columns</font>**"
   ]
  },
  {
   "cell_type": "code",
   "execution_count": 21,
   "metadata": {},
   "outputs": [],
   "source": [
    "data = data.drop(['_id','coverImageUrl','crawlStatus', 'crawledAt', 'datesPublished', 'url', 'source',\n",
    "              'descriptionNonTranslated','descriptionNonTranslatedRaw','descriptionTranslated',\n",
    "              'descriptionTranslatedRaw', 'detailsCrawledAt', 'pageDescription', 'pageTitle','userDisplayName',\n",
    "              'userId','userLastLoggedOn','userMemberSince','userPhotoUrl', 'areaRaw','rentRaw','registrationCostRaw','depositRaw'], axis=1)"
   ]
  },
  {
   "cell_type": "code",
   "execution_count": 22,
   "metadata": {},
   "outputs": [],
   "source": [
    "cols = list(data.columns)"
   ]
  },
  {
   "cell_type": "markdown",
   "metadata": {},
   "source": [
    "> ## <font color=brown>Continuous columns and fixing nulls<font>"
   ]
  },
  {
   "cell_type": "code",
   "execution_count": 23,
   "metadata": {},
   "outputs": [],
   "source": [
    "#creating a list of columns that have continuous values\n",
    "continuous = []\n",
    "\n",
    "for col in cols:\n",
    "    if data[col].dtype != \"O\":\n",
    "        continuous.append(col)\n"
   ]
  },
  {
   "cell_type": "code",
   "execution_count": 26,
   "metadata": {},
   "outputs": [
    {
     "data": {
      "text/plain": [
       "['areaSqm']"
      ]
     },
     "execution_count": 26,
     "metadata": {},
     "output_type": "execute_result"
    }
   ],
   "source": [
    "continuous"
   ]
  },
  {
   "cell_type": "code",
   "execution_count": 25,
   "metadata": {},
   "outputs": [],
   "source": [
    "#lat and long are location type and rent is our target, so only need 'areaSqm'\n",
    "\n",
    "del continuous[1:4]"
   ]
  },
  {
   "cell_type": "code",
   "execution_count": 27,
   "metadata": {},
   "outputs": [
    {
     "name": "stdout",
     "output_type": "stream",
     "text": [
      "The number of nulls in areaSqm is 0\n"
     ]
    }
   ],
   "source": [
    "# checking for nulls in continuous columns (areaSqm)\n",
    "for col in continuous:\n",
    "    na = sum(data[col].isna())\n",
    "    print (\"The number of nulls in {} is {}\".format(col,na))"
   ]
  },
  {
   "cell_type": "code",
   "execution_count": 14,
   "metadata": {},
   "outputs": [
    {
     "data": {
      "text/plain": [
       "count    46722.000000\n",
       "mean        31.616626\n",
       "std         29.863150\n",
       "min          6.000000\n",
       "25%         14.000000\n",
       "50%         20.000000\n",
       "75%         40.000000\n",
       "max        675.000000\n",
       "Name: areaSqm, dtype: float64"
      ]
     },
     "execution_count": 14,
     "metadata": {},
     "output_type": "execute_result"
    }
   ],
   "source": [
    "# analyzing the data in continuous (areaSqm)\n",
    "data.areaSqm.describe()"
   ]
  },
  {
   "cell_type": "code",
   "execution_count": 28,
   "metadata": {},
   "outputs": [
    {
     "data": {
      "image/png": "[encoded data removed]",
      "text/plain": [
       "<Figure size 432x288 with 1 Axes>"
      ]
     },
     "metadata": {
      "needs_background": "light"
     },
     "output_type": "display_data"
    },
    {
     "name": "stdout",
     "output_type": "stream",
     "text": [
      "areaSqm is non-normally distributed\n"
     ]
    }
   ],
   "source": [
    "# analyzing distribution of values in continuous (areaSqm)\n",
    "_=plt.hist(data.areaSqm, bins = 20)\n",
    "plt.show()\n",
    "print(\"areaSqm is non-normally distributed\")"
   ]
  },
  {
   "cell_type": "code",
   "execution_count": 29,
   "metadata": {
    "scrolled": true
   },
   "outputs": [
    {
     "data": {
      "image/png": "[encoded data removed]",
      "text/plain": [
       "<Figure size 432x288 with 1 Axes>"
      ]
     },
     "metadata": {
      "needs_background": "light"
     },
     "output_type": "display_data"
    }
   ],
   "source": [
    "# analyzing relationship between areaSqm and rental price\n",
    "_ = sns.scatterplot(x=data.areaSqm,y=data.rent)"
   ]
  },
  {
   "cell_type": "markdown",
   "metadata": {},
   "source": [
    "***Seems to be some relationship between areaSqm and our target of rent***"
   ]
  },
  {
   "cell_type": "code",
   "execution_count": 30,
   "metadata": {},
   "outputs": [],
   "source": [
    "#use logarithmic trasnformation as data for areaSqm is not normally distributed\n",
    "\n",
    "data['areaSqm_log'] = np.log(data.areaSqm)\n",
    "data['rent_log'] = np.log(data.rent)"
   ]
  },
  {
   "cell_type": "code",
   "execution_count": 33,
   "metadata": {
    "cell_style": "split"
   },
   "outputs": [
    {
     "data": {
      "image/png": "[encoded data removed]",
      "text/plain": [
       "<Figure size 432x288 with 1 Axes>"
      ]
     },
     "metadata": {
      "needs_background": "light"
     },
     "output_type": "display_data"
    },
    {
     "name": "stdout",
     "output_type": "stream",
     "text": [
      "areaSqm is now better distributed\n"
     ]
    }
   ],
   "source": [
    "_=plt.hist(data.areaSqm_log)\n",
    "plt.show()\n",
    "print(\"areaSqm is now better distributed\")"
   ]
  },
  {
   "cell_type": "code",
   "execution_count": 20,
   "metadata": {
    "cell_style": "split",
    "scrolled": true
   },
   "outputs": [
    {
     "data": {
      "image/png": "[encoded data removed]",
      "text/plain": [
       "<Figure size 432x288 with 1 Axes>"
      ]
     },
     "metadata": {
      "needs_background": "light"
     },
     "output_type": "display_data"
    }
   ],
   "source": [
    "_ = sns.scatterplot(x=data.areaSqm_log,y=data.rent_log)"
   ]
  },
  {
   "cell_type": "code",
   "execution_count": 32,
   "metadata": {},
   "outputs": [
    {
     "name": "stdout",
     "output_type": "stream",
     "text": [
      "outliers exist in areaAqm\n"
     ]
    },
    {
     "data": {
      "image/png": "[encoded data removed]",
      "text/plain": [
       "<Figure size 432x288 with 1 Axes>"
      ]
     },
     "metadata": {
      "needs_background": "light"
     },
     "output_type": "display_data"
    }
   ],
   "source": [
    "# checking for outliers in areaSqm\n",
    "\n",
    "_=sns.boxplot(data.areaSqm_log, orient=\"vertical\")\n",
    "print(\"outliers exist in areaAqm\")"
   ]
  },
  {
   "cell_type": "markdown",
   "metadata": {},
   "source": [
    "> ## <font color = brown>Categorical columns fixing nulls</font>"
   ]
  },
  {
   "cell_type": "code",
   "execution_count": 34,
   "metadata": {},
   "outputs": [],
   "source": [
    "# creating a list of columns with a data type of object\n",
    "\n",
    "categorical = []\n",
    "\n",
    "for col in cols:\n",
    "    if data[col].dtype == \"O\":\n",
    "        categorical.append(col)"
   ]
  },
  {
   "cell_type": "code",
   "execution_count": 35,
   "metadata": {},
   "outputs": [
    {
     "data": {
      "text/html": [
       "<div>\n",
       "<style scoped>\n",
       "    .dataframe tbody tr th:only-of-type {\n",
       "        vertical-align: middle;\n",
       "    }\n",
       "\n",
       "    .dataframe tbody tr th {\n",
       "        vertical-align: top;\n",
       "    }\n",
       "\n",
       "    .dataframe thead th {\n",
       "        text-align: right;\n",
       "    }\n",
       "</style>\n",
       "<table border=\"1\" class=\"dataframe\">\n",
       "  <thead>\n",
       "    <tr style=\"text-align: right;\">\n",
       "      <th></th>\n",
       "      <th>externalId</th>\n",
       "      <th>city</th>\n",
       "      <th>firstSeenAt</th>\n",
       "      <th>furnish</th>\n",
       "      <th>lastSeenAt</th>\n",
       "      <th>postalCode</th>\n",
       "      <th>postedAgo</th>\n",
       "      <th>propertyType</th>\n",
       "      <th>rawAvailability</th>\n",
       "      <th>rentDetail</th>\n",
       "      <th>...</th>\n",
       "      <th>matchGender</th>\n",
       "      <th>matchGenderBackup</th>\n",
       "      <th>matchLanguages</th>\n",
       "      <th>matchStatus</th>\n",
       "      <th>matchStatusBackup</th>\n",
       "      <th>pets</th>\n",
       "      <th>roommates</th>\n",
       "      <th>shower</th>\n",
       "      <th>smokingInside</th>\n",
       "      <th>toilet</th>\n",
       "    </tr>\n",
       "  </thead>\n",
       "  <tbody>\n",
       "    <tr>\n",
       "      <th>0</th>\n",
       "      <td>room-1686123</td>\n",
       "      <td>Rotterdam</td>\n",
       "      <td>{'$date': '2019-07-14T11:25:46.511+0000'}</td>\n",
       "      <td>Unfurnished</td>\n",
       "      <td>{'$date': '2019-07-26T22:18:23.142+0000'}</td>\n",
       "      <td>3074HN</td>\n",
       "      <td>4w</td>\n",
       "      <td>Room</td>\n",
       "      <td>26-06-'19 - Indefinite period</td>\n",
       "      <td></td>\n",
       "      <td>...</td>\n",
       "      <td>Not important</td>\n",
       "      <td>Not important</td>\n",
       "      <td>Not important</td>\n",
       "      <td>Not important</td>\n",
       "      <td>Not important</td>\n",
       "      <td>No</td>\n",
       "      <td>5</td>\n",
       "      <td>Shared</td>\n",
       "      <td>No</td>\n",
       "      <td>Shared</td>\n",
       "    </tr>\n",
       "  </tbody>\n",
       "</table>\n",
       "<p>1 rows × 30 columns</p>\n",
       "</div>"
      ],
      "text/plain": [
       "     externalId       city                                firstSeenAt  \\\n",
       "0  room-1686123  Rotterdam  {'$date': '2019-07-14T11:25:46.511+0000'}   \n",
       "\n",
       "       furnish                                 lastSeenAt postalCode  \\\n",
       "0  Unfurnished  {'$date': '2019-07-26T22:18:23.142+0000'}     3074HN   \n",
       "\n",
       "  postedAgo propertyType                rawAvailability rentDetail  ...  \\\n",
       "0        4w         Room  26-06-'19 - Indefinite period             ...   \n",
       "\n",
       "     matchGender matchGenderBackup matchLanguages    matchStatus  \\\n",
       "0  Not important     Not important  Not important  Not important   \n",
       "\n",
       "  matchStatusBackup pets roommates  shower smokingInside  toilet  \n",
       "0     Not important   No         5  Shared            No  Shared  \n",
       "\n",
       "[1 rows x 30 columns]"
      ]
     },
     "execution_count": 35,
     "metadata": {},
     "output_type": "execute_result"
    }
   ],
   "source": [
    "data[categorical].head(1)"
   ]
  },
  {
   "cell_type": "code",
   "execution_count": 36,
   "metadata": {},
   "outputs": [],
   "source": [
    "#columns not needed for categorical list\n",
    "\n",
    "categorical.remove(\"externalId\") #doesn't meet criteria\n",
    "categorical.remove(\"firstSeenAt\") #time data\n",
    "categorical.remove(\"lastSeenAt\") #time data\n",
    "categorical.remove(\"postedAgo\") #time data\n",
    "categorical.remove(\"rawAvailability\") #time data, mixed data\n",
    "categorical.remove(\"matchStatusBackup\") #redundant\n",
    "categorical.remove(\"matchGenderBackup\") #redundant\n"
   ]
  },
  {
   "cell_type": "code",
   "execution_count": 37,
   "metadata": {},
   "outputs": [
    {
     "name": "stdout",
     "output_type": "stream",
     "text": [
      "There are 23 columns that are categorical\n"
     ]
    }
   ],
   "source": [
    "print(\"There are {} columns that are categorical\".format(len(categorical)))"
   ]
  },
  {
   "cell_type": "code",
   "execution_count": 38,
   "metadata": {},
   "outputs": [
    {
     "name": "stdout",
     "output_type": "stream",
     "text": [
      "The number of nulls in city is 0\n",
      "The number of nulls in furnish is 0\n",
      "The number of nulls in postalCode is 0\n",
      "The number of nulls in propertyType is 0\n",
      "The number of nulls in rentDetail is 0\n",
      "The number of nulls in title is 0\n",
      "The number of nulls in energyLabel is 81\n",
      "The number of nulls in gender is 81\n",
      "The number of nulls in internet is 81\n",
      "The number of nulls in isRoomActive is 81\n",
      "The number of nulls in kitchen is 81\n",
      "The number of nulls in living is 81\n",
      "The number of nulls in matchAge is 81\n",
      "The number of nulls in matchAgeBackup is 81\n",
      "The number of nulls in matchCapacity is 81\n",
      "The number of nulls in matchGender is 81\n",
      "The number of nulls in matchLanguages is 81\n",
      "The number of nulls in matchStatus is 81\n",
      "The number of nulls in pets is 81\n",
      "The number of nulls in roommates is 81\n",
      "The number of nulls in shower is 81\n",
      "The number of nulls in smokingInside is 81\n",
      "The number of nulls in toilet is 81\n",
      "['energyLabel', 'gender', 'internet', 'isRoomActive', 'kitchen', 'living', 'matchAge', 'matchAgeBackup', 'matchCapacity', 'matchGender', 'matchLanguages', 'matchStatus', 'pets', 'roommates', 'shower', 'smokingInside', 'toilet']\n",
      "There are 17 columns with null values that need to be addressed\n"
     ]
    }
   ],
   "source": [
    "# checking for nulls in categorical columns and creating a list\n",
    "\n",
    "cats_to_fix = []\n",
    "for col in categorical:\n",
    "    na = sum(data[col].isna())\n",
    "    if na > 0:\n",
    "        cats_to_fix.append(col)\n",
    "    print (\"The number of nulls in {} is {}\".format(col,na))\n",
    "print(cats_to_fix)\n",
    "print(\"There are {} columns with null values that need to be addressed\".format(len(cats_to_fix)))"
   ]
  },
  {
   "cell_type": "code",
   "execution_count": 40,
   "metadata": {
    "scrolled": true
   },
   "outputs": [
    {
     "data": {
      "image/png": "[encoded data removed]",
      "text/plain": [
       "<Figure size 1800x720 with 2 Axes>"
      ]
     },
     "metadata": {
      "needs_background": "light"
     },
     "output_type": "display_data"
    }
   ],
   "source": [
    "# visualizing \n",
    "_=msno.matrix(data[cats_to_fix])"
   ]
  },
  {
   "cell_type": "code",
   "execution_count": 42,
   "metadata": {},
   "outputs": [
    {
     "data": {
      "image/png": "[encoded data removed]",
      "text/plain": [
       "<Figure size 1440x864 with 2 Axes>"
      ]
     },
     "metadata": {
      "needs_background": "light"
     },
     "output_type": "display_data"
    }
   ],
   "source": [
    "# heat map of nulls\n",
    "_=msno.heatmap(data[cats_to_fix])"
   ]
  },
  {
   "cell_type": "markdown",
   "metadata": {},
   "source": [
    "***Equal number of nulls and visualization indicates whole rows with null values***"
   ]
  },
  {
   "cell_type": "code",
   "execution_count": 45,
   "metadata": {},
   "outputs": [
    {
     "data": {
      "text/plain": [
       "0    12749\n",
       "dtype: int64"
      ]
     },
     "execution_count": 45,
     "metadata": {},
     "output_type": "execute_result"
    }
   ],
   "source": [
    "\n",
    "data[cats_to_fix].isna().sum(axis=1).sort_values(ascending=False).value_counts()"
   ]
  },
  {
   "cell_type": "code",
   "execution_count": 44,
   "metadata": {},
   "outputs": [
    {
     "data": {
      "text/plain": [
       "(12749, 36)"
      ]
     },
     "execution_count": 44,
     "metadata": {},
     "output_type": "execute_result"
    }
   ],
   "source": [
    "#Dropping rows with more than 2 missing values\n",
    "\n",
    "rows_to_drop = list(data.index[data[cats_to_fix].isna().sum(axis=1)>2])\n",
    "data = data.drop(rows_to_drop, axis=0)\n",
    "data.shape"
   ]
  },
  {
   "cell_type": "code",
   "execution_count": 46,
   "metadata": {},
   "outputs": [
    {
     "data": {
      "image/png": "[encoded data removed]",
      "text/plain": [
       "<Figure size 432x288 with 1 Axes>"
      ]
     },
     "metadata": {
      "needs_background": "light"
     },
     "output_type": "display_data"
    },
    {
     "data": {
      "image/png": "[encoded data removed]",
      "text/plain": [
       "<Figure size 432x288 with 1 Axes>"
      ]
     },
     "metadata": {
      "needs_background": "light"
     },
     "output_type": "display_data"
    }
   ],
   "source": [
    "# 'gender'and 'roomates' have binary data\n",
    "for col in data[['gender','roommates']]:\n",
    "    temp_df = data\n",
    "    \n",
    "    #creating a variable that inidcates 1 if null or 0 if not\n",
    "    temp_df[col] = np.where(temp_df[col].isna(),1,0)\n",
    "    \n",
    "    _ = temp_df.groupby(col)['rent'].median().plot.bar()\n",
    "    plt.show()"
   ]
  },
  {
   "cell_type": "code",
   "execution_count": 47,
   "metadata": {},
   "outputs": [
    {
     "name": "stdout",
     "output_type": "stream",
     "text": [
      "There are 0 missing values in city\n",
      "There are 217 missing values in furnish\n",
      "There are 0 missing values in postalCode\n",
      "There are 0 missing values in propertyType\n",
      "There are 3788 missing values in rentDetail\n",
      "There are 0 missing values in title\n",
      "There are 0 missing values in energyLabel\n",
      "There are 0 missing values in gender\n",
      "There are 0 missing values in internet\n",
      "There are 0 missing values in isRoomActive\n",
      "There are 0 missing values in kitchen\n",
      "There are 0 missing values in living\n",
      "There are 0 missing values in matchAge\n",
      "There are 0 missing values in matchAgeBackup\n",
      "There are 0 missing values in matchCapacity\n",
      "There are 0 missing values in matchGender\n",
      "There are 0 missing values in matchLanguages\n",
      "There are 0 missing values in matchStatus\n",
      "There are 0 missing values in pets\n",
      "There are 0 missing values in roommates\n",
      "There are 0 missing values in shower\n",
      "There are 0 missing values in smokingInside\n",
      "There are 0 missing values in toilet\n"
     ]
    },
    {
     "name": "stderr",
     "output_type": "stream",
     "text": [
      "/Users/michaelcondon/anaconda3/lib/python3.7/site-packages/pandas/core/ops/array_ops.py:253: FutureWarning:\n",
      "\n",
      "elementwise comparison failed; returning scalar instead, but in the future will perform elementwise comparison\n",
      "\n"
     ]
    }
   ],
   "source": [
    "# checking for blanks/missing values in categorical columns\n",
    "for col in categorical:\n",
    "    print('There are {} missing values in {}'.format(sum(data[col] == \"\"),col))"
   ]
  },
  {
   "cell_type": "code",
   "execution_count": 49,
   "metadata": {},
   "outputs": [],
   "source": [
    "# 'furnish' and 'rentalDetail' have a lot of missing values\n",
    "# replacing missing values with nan \n",
    "data[['furnish', 'rentDetail']] = data[['furnish', 'rentDetail']].replace(r'^\\s*$', np.nan, regex=True)"
   ]
  },
  {
   "cell_type": "code",
   "execution_count": 50,
   "metadata": {},
   "outputs": [],
   "source": [
    "# replacing nans with 'Missing'\n",
    "data[categorical] = data[categorical].fillna('Missing')"
   ]
  },
  {
   "cell_type": "code",
   "execution_count": 51,
   "metadata": {},
   "outputs": [
    {
     "name": "stdout",
     "output_type": "stream",
     "text": [
      "There are 0 missing values in city\n",
      "There are 0 missing values in furnish\n",
      "There are 0 missing values in postalCode\n",
      "There are 0 missing values in propertyType\n",
      "There are 0 missing values in rentDetail\n",
      "There are 0 missing values in title\n",
      "There are 0 missing values in energyLabel\n",
      "There are 0 missing values in gender\n",
      "There are 0 missing values in internet\n",
      "There are 0 missing values in isRoomActive\n",
      "There are 0 missing values in kitchen\n",
      "There are 0 missing values in living\n",
      "There are 0 missing values in matchAge\n",
      "There are 0 missing values in matchAgeBackup\n",
      "There are 0 missing values in matchCapacity\n",
      "There are 0 missing values in matchGender\n",
      "There are 0 missing values in matchLanguages\n",
      "There are 0 missing values in matchStatus\n",
      "There are 0 missing values in pets\n",
      "There are 0 missing values in roommates\n",
      "There are 0 missing values in shower\n",
      "There are 0 missing values in smokingInside\n",
      "There are 0 missing values in toilet\n"
     ]
    }
   ],
   "source": [
    "for col in categorical:\n",
    "    print('There are {} missing values in {}'.format(sum(data[col].isna()),col))\n",
    "    "
   ]
  },
  {
   "cell_type": "code",
   "execution_count": 52,
   "metadata": {},
   "outputs": [
    {
     "data": {
      "text/plain": [
       "Text(0.5, 0, 'furnish')"
      ]
     },
     "execution_count": 52,
     "metadata": {},
     "output_type": "execute_result"
    },
    {
     "data": {
      "text/plain": [
       "Text(0, 0.5, 'rent')"
      ]
     },
     "execution_count": 52,
     "metadata": {},
     "output_type": "execute_result"
    },
    {
     "data": {
      "image/png": "[encoded data removed]",
      "text/plain": [
       "<Figure size 432x288 with 1 Axes>"
      ]
     },
     "metadata": {
      "needs_background": "light"
     },
     "output_type": "display_data"
    },
    {
     "data": {
      "text/plain": [
       "Text(0.5, 0, 'propertyType')"
      ]
     },
     "execution_count": 52,
     "metadata": {},
     "output_type": "execute_result"
    },
    {
     "data": {
      "text/plain": [
       "Text(0, 0.5, 'rent')"
      ]
     },
     "execution_count": 52,
     "metadata": {},
     "output_type": "execute_result"
    },
    {
     "data": {
      "image/png": "[encoded data removed]",
      "text/plain": [
       "<Figure size 432x288 with 1 Axes>"
      ]
     },
     "metadata": {
      "needs_background": "light"
     },
     "output_type": "display_data"
    },
    {
     "data": {
      "text/plain": [
       "Text(0.5, 0, 'rentDetail')"
      ]
     },
     "execution_count": 52,
     "metadata": {},
     "output_type": "execute_result"
    },
    {
     "data": {
      "text/plain": [
       "Text(0, 0.5, 'rent')"
      ]
     },
     "execution_count": 52,
     "metadata": {},
     "output_type": "execute_result"
    },
    {
     "data": {
      "image/png": "[encoded data removed]",
      "text/plain": [
       "<Figure size 432x288 with 1 Axes>"
      ]
     },
     "metadata": {
      "needs_background": "light"
     },
     "output_type": "display_data"
    },
    {
     "data": {
      "text/plain": [
       "Text(0.5, 0, 'energyLabel')"
      ]
     },
     "execution_count": 52,
     "metadata": {},
     "output_type": "execute_result"
    },
    {
     "data": {
      "text/plain": [
       "Text(0, 0.5, 'rent')"
      ]
     },
     "execution_count": 52,
     "metadata": {},
     "output_type": "execute_result"
    },
    {
     "data": {
      "image/png": "[encoded data removed]",
      "text/plain": [
       "<Figure size 432x288 with 1 Axes>"
      ]
     },
     "metadata": {
      "needs_background": "light"
     },
     "output_type": "display_data"
    },
    {
     "data": {
      "text/plain": [
       "Text(0.5, 0, 'gender')"
      ]
     },
     "execution_count": 52,
     "metadata": {},
     "output_type": "execute_result"
    },
    {
     "data": {
      "text/plain": [
       "Text(0, 0.5, 'rent')"
      ]
     },
     "execution_count": 52,
     "metadata": {},
     "output_type": "execute_result"
    },
    {
     "data": {
      "image/png": "[encoded data removed]",
      "text/plain": [
       "<Figure size 432x288 with 1 Axes>"
      ]
     },
     "metadata": {
      "needs_background": "light"
     },
     "output_type": "display_data"
    },
    {
     "data": {
      "text/plain": [
       "Text(0.5, 0, 'internet')"
      ]
     },
     "execution_count": 52,
     "metadata": {},
     "output_type": "execute_result"
    },
    {
     "data": {
      "text/plain": [
       "Text(0, 0.5, 'rent')"
      ]
     },
     "execution_count": 52,
     "metadata": {},
     "output_type": "execute_result"
    },
    {
     "data": {
      "image/png": "[encoded data removed]",
      "text/plain": [
       "<Figure size 432x288 with 1 Axes>"
      ]
     },
     "metadata": {
      "needs_background": "light"
     },
     "output_type": "display_data"
    },
    {
     "data": {
      "text/plain": [
       "Text(0.5, 0, 'isRoomActive')"
      ]
     },
     "execution_count": 52,
     "metadata": {},
     "output_type": "execute_result"
    },
    {
     "data": {
      "text/plain": [
       "Text(0, 0.5, 'rent')"
      ]
     },
     "execution_count": 52,
     "metadata": {},
     "output_type": "execute_result"
    },
    {
     "data": {
      "image/png": "[encoded data removed]",
      "text/plain": [
       "<Figure size 432x288 with 1 Axes>"
      ]
     },
     "metadata": {
      "needs_background": "light"
     },
     "output_type": "display_data"
    },
    {
     "data": {
      "text/plain": [
       "Text(0.5, 0, 'kitchen')"
      ]
     },
     "execution_count": 52,
     "metadata": {},
     "output_type": "execute_result"
    },
    {
     "data": {
      "text/plain": [
       "Text(0, 0.5, 'rent')"
      ]
     },
     "execution_count": 52,
     "metadata": {},
     "output_type": "execute_result"
    },
    {
     "data": {
      "image/png": "[encoded data removed]",
      "text/plain": [
       "<Figure size 432x288 with 1 Axes>"
      ]
     },
     "metadata": {
      "needs_background": "light"
     },
     "output_type": "display_data"
    },
    {
     "data": {
      "text/plain": [
       "Text(0.5, 0, 'living')"
      ]
     },
     "execution_count": 52,
     "metadata": {},
     "output_type": "execute_result"
    },
    {
     "data": {
      "text/plain": [
       "Text(0, 0.5, 'rent')"
      ]
     },
     "execution_count": 52,
     "metadata": {},
     "output_type": "execute_result"
    },
    {
     "data": {
      "image/png": "[encoded data removed]",
      "text/plain": [
       "<Figure size 432x288 with 1 Axes>"
      ]
     },
     "metadata": {
      "needs_background": "light"
     },
     "output_type": "display_data"
    },
    {
     "data": {
      "text/plain": [
       "Text(0.5, 0, 'matchCapacity')"
      ]
     },
     "execution_count": 52,
     "metadata": {},
     "output_type": "execute_result"
    },
    {
     "data": {
      "text/plain": [
       "Text(0, 0.5, 'rent')"
      ]
     },
     "execution_count": 52,
     "metadata": {},
     "output_type": "execute_result"
    },
    {
     "data": {
      "image/png": "[encoded data removed]",
      "text/plain": [
       "<Figure size 432x288 with 1 Axes>"
      ]
     },
     "metadata": {
      "needs_background": "light"
     },
     "output_type": "display_data"
    },
    {
     "data": {
      "text/plain": [
       "Text(0.5, 0, 'matchGender')"
      ]
     },
     "execution_count": 52,
     "metadata": {},
     "output_type": "execute_result"
    },
    {
     "data": {
      "text/plain": [
       "Text(0, 0.5, 'rent')"
      ]
     },
     "execution_count": 52,
     "metadata": {},
     "output_type": "execute_result"
    },
    {
     "data": {
      "image/png": "[encoded data removed]",
      "text/plain": [
       "<Figure size 432x288 with 1 Axes>"
      ]
     },
     "metadata": {
      "needs_background": "light"
     },
     "output_type": "display_data"
    },
    {
     "data": {
      "text/plain": [
       "Text(0.5, 0, 'pets')"
      ]
     },
     "execution_count": 52,
     "metadata": {},
     "output_type": "execute_result"
    },
    {
     "data": {
      "text/plain": [
       "Text(0, 0.5, 'rent')"
      ]
     },
     "execution_count": 52,
     "metadata": {},
     "output_type": "execute_result"
    },
    {
     "data": {
      "image/png": "[encoded data removed]",
      "text/plain": [
       "<Figure size 432x288 with 1 Axes>"
      ]
     },
     "metadata": {
      "needs_background": "light"
     },
     "output_type": "display_data"
    },
    {
     "data": {
      "text/plain": [
       "Text(0.5, 0, 'roommates')"
      ]
     },
     "execution_count": 52,
     "metadata": {},
     "output_type": "execute_result"
    },
    {
     "data": {
      "text/plain": [
       "Text(0, 0.5, 'rent')"
      ]
     },
     "execution_count": 52,
     "metadata": {},
     "output_type": "execute_result"
    },
    {
     "data": {
      "image/png": "[encoded data removed]",
      "text/plain": [
       "<Figure size 432x288 with 1 Axes>"
      ]
     },
     "metadata": {
      "needs_background": "light"
     },
     "output_type": "display_data"
    },
    {
     "data": {
      "text/plain": [
       "Text(0.5, 0, 'shower')"
      ]
     },
     "execution_count": 52,
     "metadata": {},
     "output_type": "execute_result"
    },
    {
     "data": {
      "text/plain": [
       "Text(0, 0.5, 'rent')"
      ]
     },
     "execution_count": 52,
     "metadata": {},
     "output_type": "execute_result"
    },
    {
     "data": {
      "image/png": "[encoded data removed]",
      "text/plain": [
       "<Figure size 432x288 with 1 Axes>"
      ]
     },
     "metadata": {
      "needs_background": "light"
     },
     "output_type": "display_data"
    },
    {
     "data": {
      "text/plain": [
       "Text(0.5, 0, 'smokingInside')"
      ]
     },
     "execution_count": 52,
     "metadata": {},
     "output_type": "execute_result"
    },
    {
     "data": {
      "text/plain": [
       "Text(0, 0.5, 'rent')"
      ]
     },
     "execution_count": 52,
     "metadata": {},
     "output_type": "execute_result"
    },
    {
     "data": {
      "image/png": "[encoded data removed]",
      "text/plain": [
       "<Figure size 432x288 with 1 Axes>"
      ]
     },
     "metadata": {
      "needs_background": "light"
     },
     "output_type": "display_data"
    },
    {
     "data": {
      "text/plain": [
       "Text(0.5, 0, 'toilet')"
      ]
     },
     "execution_count": 52,
     "metadata": {},
     "output_type": "execute_result"
    },
    {
     "data": {
      "text/plain": [
       "Text(0, 0.5, 'rent')"
      ]
     },
     "execution_count": 52,
     "metadata": {},
     "output_type": "execute_result"
    },
    {
     "data": {
      "image/png": "[encoded data removed]",
      "text/plain": [
       "<Figure size 432x288 with 1 Axes>"
      ]
     },
     "metadata": {
      "needs_background": "light"
     },
     "output_type": "display_data"
    }
   ],
   "source": [
    "# viszualizing categorical values with less than 10 unique values\n",
    "for col in categorical:\n",
    "    if len(data.groupby(col)['rent'].median().reset_index()[col]) < 10:\n",
    "        _=sns.barplot(x = data.groupby(col)['rent'].median().reset_index()[col],y = data.groupby(col)['rent'].median().reset_index()['rent'])\n",
    "        plt.xlabel(col)\n",
    "        plt.ylabel('rent')\n",
    "        plt.show()"
   ]
  },
  {
   "cell_type": "markdown",
   "metadata": {},
   "source": [
    "> **<font color=brown>Time and date data</font>**<br>\n",
    "Date columns need to be adjusted to get proper date formating "
   ]
  },
  {
   "cell_type": "code",
   "execution_count": 54,
   "metadata": {},
   "outputs": [],
   "source": [
    "# adding a copy of the columns to work on \n",
    "data['first_seen_date'] = data.firstSeenAt.apply(pd.Series)\n",
    "data['last_seen_date'] = data.lastSeenAt.apply(pd.Series)"
   ]
  },
  {
   "cell_type": "code",
   "execution_count": 55,
   "metadata": {},
   "outputs": [],
   "source": [
    "# dropping original columns\n",
    "data = data.drop(['firstSeenAt','lastSeenAt'], axis=1)"
   ]
  },
  {
   "cell_type": "code",
   "execution_count": 56,
   "metadata": {},
   "outputs": [],
   "source": [
    "# creating dataframe with just date columns\n",
    "temporal = [\"first_seen_date\",\"last_seen_date\"]"
   ]
  },
  {
   "cell_type": "code",
   "execution_count": 57,
   "metadata": {},
   "outputs": [],
   "source": [
    "# stripping away text and converting dates to datetime64\n",
    "for col in temporal:\n",
    "    data[col] = data[col].astype(str).str[:10].astype(np.datetime64)"
   ]
  },
  {
   "cell_type": "code",
   "execution_count": 58,
   "metadata": {},
   "outputs": [
    {
     "data": {
      "text/html": [
       "<div>\n",
       "<style scoped>\n",
       "    .dataframe tbody tr th:only-of-type {\n",
       "        vertical-align: middle;\n",
       "    }\n",
       "\n",
       "    .dataframe tbody tr th {\n",
       "        vertical-align: top;\n",
       "    }\n",
       "\n",
       "    .dataframe thead th {\n",
       "        text-align: right;\n",
       "    }\n",
       "</style>\n",
       "<table border=\"1\" class=\"dataframe\">\n",
       "  <thead>\n",
       "    <tr style=\"text-align: right;\">\n",
       "      <th></th>\n",
       "      <th>first_seen_date</th>\n",
       "      <th>last_seen_date</th>\n",
       "    </tr>\n",
       "  </thead>\n",
       "  <tbody>\n",
       "    <tr>\n",
       "      <th>0</th>\n",
       "      <td>2019-07-14</td>\n",
       "      <td>2019-07-26</td>\n",
       "    </tr>\n",
       "    <tr>\n",
       "      <th>1</th>\n",
       "      <td>2019-07-14</td>\n",
       "      <td>2019-08-10</td>\n",
       "    </tr>\n",
       "  </tbody>\n",
       "</table>\n",
       "</div>"
      ],
      "text/plain": [
       "  first_seen_date last_seen_date\n",
       "0      2019-07-14     2019-07-26\n",
       "1      2019-07-14     2019-08-10"
      ]
     },
     "execution_count": 58,
     "metadata": {},
     "output_type": "execute_result"
    }
   ],
   "source": [
    "data[temporal].head(2)"
   ]
  },
  {
   "cell_type": "code",
   "execution_count": 59,
   "metadata": {},
   "outputs": [],
   "source": [
    "# getting the duration of each post in days\n",
    "data['post_duration'] = (data.last_seen_date - data.first_seen_date).astype('str').str.split(\" \", expand=True)[0].astype('int')"
   ]
  },
  {
   "cell_type": "code",
   "execution_count": 60,
   "metadata": {},
   "outputs": [
    {
     "data": {
      "text/plain": [
       "744"
      ]
     },
     "execution_count": 60,
     "metadata": {},
     "output_type": "execute_result"
    }
   ],
   "source": [
    "# checking the posts with 0 duration days \n",
    "len(data[data.post_duration == 0])"
   ]
  },
  {
   "cell_type": "code",
   "execution_count": 62,
   "metadata": {},
   "outputs": [
    {
     "data": {
      "image/png": "[encoded data removed]",
      "text/plain": [
       "<Figure size 432x288 with 1 Axes>"
      ]
     },
     "metadata": {
      "needs_background": "light"
     },
     "output_type": "display_data"
    }
   ],
   "source": [
    "# visualization of duration data distribution\n",
    "_=plt.hist(data.post_duration)"
   ]
  },
  {
   "cell_type": "code",
   "execution_count": 63,
   "metadata": {},
   "outputs": [],
   "source": [
    "# creating a list of date columns\n",
    "temporal = [\"first_seen_date\",\"last_seen_date\", 'post_duration']"
   ]
  },
  {
   "cell_type": "code",
   "execution_count": 64,
   "metadata": {},
   "outputs": [
    {
     "data": {
      "image/png": "[encoded data removed]",
      "text/plain": [
       "<Figure size 432x288 with 1 Axes>"
      ]
     },
     "metadata": {
      "needs_background": "light"
     },
     "output_type": "display_data"
    },
    {
     "data": {
      "image/png": "[encoded data removed]",
      "text/plain": [
       "<Figure size 432x288 with 1 Axes>"
      ]
     },
     "metadata": {
      "needs_background": "light"
     },
     "output_type": "display_data"
    },
    {
     "data": {
      "image/png": "[encoded data removed]",
      "text/plain": [
       "<Figure size 432x288 with 1 Axes>"
      ]
     },
     "metadata": {
      "needs_background": "light"
     },
     "output_type": "display_data"
    }
   ],
   "source": [
    "# visualizing date columns and relationship with rent\n",
    "for col in temporal:\n",
    "    _ = data.groupby(col)['rent'].median().plot()\n",
    "    plt.show()"
   ]
  },
  {
   "cell_type": "code",
   "execution_count": 65,
   "metadata": {},
   "outputs": [
    {
     "data": {
      "text/plain": [
       "(737254.0, 737303.0)"
      ]
     },
     "execution_count": 65,
     "metadata": {},
     "output_type": "execute_result"
    },
    {
     "data": {
      "image/png": "[encoded data removed]",
      "text/plain": [
       "<Figure size 432x288 with 1 Axes>"
      ]
     },
     "metadata": {
      "needs_background": "light"
     },
     "output_type": "display_data"
    },
    {
     "data": {
      "text/plain": [
       "(737254.0, 737492.0)"
      ]
     },
     "execution_count": 65,
     "metadata": {},
     "output_type": "execute_result"
    },
    {
     "data": {
      "image/png": "[encoded data removed]",
      "text/plain": [
       "<Figure size 432x288 with 1 Axes>"
      ]
     },
     "metadata": {
      "needs_background": "light"
     },
     "output_type": "display_data"
    }
   ],
   "source": [
    "# visualizing date columns and relationship with rent\n",
    "for col in temporal[0:2]:\n",
    "    temp = data.set_index(col, drop=True)\n",
    "    temp = temp.resample('W')['rent'].sum().reset_index()\n",
    "    _ = sns.scatterplot(x = temp[col], y=temp.rent)\n",
    "    plt.xlim(min(temp[col]), max(temp[col]))\n",
    "    plt.show()"
   ]
  },
  {
   "cell_type": "markdown",
   "metadata": {},
   "source": [
    "# <font color=teal>Feature Engineering</font>"
   ]
  },
  {
   "cell_type": "markdown",
   "metadata": {},
   "source": [
    "> ## <font color=brown>Organizing data for ML modeling<font>"
   ]
  },
  {
   "cell_type": "code",
   "execution_count": 66,
   "metadata": {},
   "outputs": [],
   "source": [
    "#creating dataframe with only the selected and cleaned categorical columns and normalized continuous columns\n",
    "data_ml = data.drop(['areaSqm','rent','latitude', 'longitude', 'postedAgo','matchGender', 'matchGenderBackup', 'matchCapacity', 'matchStatus', 'matchAgeBackup','matchAge', 'matchLanguages', 'matchStatusBackup', 'gender', 'rawAvailability', 'first_seen_date', 'last_seen_date', 'post_duration'], axis=1 )"
   ]
  },
  {
   "cell_type": "code",
   "execution_count": 67,
   "metadata": {},
   "outputs": [
    {
     "name": "stdout",
     "output_type": "stream",
     "text": [
      "<class 'pandas.core.frame.DataFrame'>\n",
      "Int64Index: 12749 entries, 0 to 12829\n",
      "Data columns (total 19 columns):\n",
      " #   Column         Non-Null Count  Dtype  \n",
      "---  ------         --------------  -----  \n",
      " 0   externalId     12749 non-null  object \n",
      " 1   city           12749 non-null  object \n",
      " 2   furnish        12749 non-null  object \n",
      " 3   postalCode     12749 non-null  object \n",
      " 4   propertyType   12749 non-null  object \n",
      " 5   rentDetail     12749 non-null  object \n",
      " 6   title          12749 non-null  object \n",
      " 7   energyLabel    12749 non-null  object \n",
      " 8   internet       12749 non-null  object \n",
      " 9   isRoomActive   12749 non-null  object \n",
      " 10  kitchen        12749 non-null  object \n",
      " 11  living         12749 non-null  object \n",
      " 12  pets           12749 non-null  object \n",
      " 13  roommates      12749 non-null  int64  \n",
      " 14  shower         12749 non-null  object \n",
      " 15  smokingInside  12749 non-null  object \n",
      " 16  toilet         12749 non-null  object \n",
      " 17  areaSqm_log    12749 non-null  float64\n",
      " 18  rent_log       12749 non-null  float64\n",
      "dtypes: float64(2), int64(1), object(16)\n",
      "memory usage: 1.9+ MB\n"
     ]
    }
   ],
   "source": [
    "data_ml.info()"
   ]
  },
  {
   "cell_type": "code",
   "execution_count": 68,
   "metadata": {},
   "outputs": [
    {
     "name": "stdout",
     "output_type": "stream",
     "text": [
      "these are the ml_cat features ['city', 'furnish', 'postalCode', 'propertyType', 'rentDetail', 'title', 'energyLabel', 'internet', 'isRoomActive', 'kitchen', 'living', 'pets', 'shower', 'smokingInside', 'toilet', 'roommates']\n",
      "these are the ml_cont features ['areaSqm_log', 'rent_log']\n",
      "these are the ml_temp features []\n"
     ]
    }
   ],
   "source": [
    "# creating lists from our ML dataframe based on type\n",
    "ml_cat = []\n",
    "ml_cont = []\n",
    "ml_temp = []\n",
    "\n",
    "for col in list(data_ml.columns):\n",
    "    if data_ml[col].dtype == 'object':\n",
    "        ml_cat.append(col)\n",
    "    elif data_ml[col].dtype == 'datetime64[ns]':\n",
    "        ml_temp.append(col)\n",
    "    else:\n",
    "        ml_cont.append(col)\n",
    "\n",
    "ml_cat.append('roommates')\n",
    "ml_cont.remove('roommates')\n",
    "ml_cat.remove('externalId')\n",
    "\n",
    "print('these are the ml_cat features {}'.format(ml_cat))\n",
    "print('these are the ml_cont features {}'.format(ml_cont))\n",
    "print('these are the ml_temp features {}'.format(ml_temp))\n",
    "\n"
   ]
  },
  {
   "cell_type": "markdown",
   "metadata": {},
   "source": [
    "Code for checking for rare values<br>\n",
    "Could remove categorical values that represent less than 1% of observations<br>\n",
    "Decided to skip after running the model<br><br>\n",
    "for feature in ml_cat:\n",
    "    temp = data_ml.groupby(feature)['rent_log'].count()/len(data_ml)\n",
    "    temp_df = temp[temp>0.01].index\n",
    "    data_ml[feature] = np.where(data_ml[feature].isin(temp_df),data_ml[feature],'Rare_var')"
   ]
  },
  {
   "cell_type": "code",
   "execution_count": 69,
   "metadata": {},
   "outputs": [
    {
     "data": {
      "text/html": [
       "<div>\n",
       "<style scoped>\n",
       "    .dataframe tbody tr th:only-of-type {\n",
       "        vertical-align: middle;\n",
       "    }\n",
       "\n",
       "    .dataframe tbody tr th {\n",
       "        vertical-align: top;\n",
       "    }\n",
       "\n",
       "    .dataframe thead th {\n",
       "        text-align: right;\n",
       "    }\n",
       "</style>\n",
       "<table border=\"1\" class=\"dataframe\">\n",
       "  <thead>\n",
       "    <tr style=\"text-align: right;\">\n",
       "      <th></th>\n",
       "      <th>externalId</th>\n",
       "      <th>city</th>\n",
       "      <th>furnish</th>\n",
       "      <th>postalCode</th>\n",
       "      <th>propertyType</th>\n",
       "      <th>rentDetail</th>\n",
       "      <th>title</th>\n",
       "      <th>energyLabel</th>\n",
       "      <th>internet</th>\n",
       "      <th>isRoomActive</th>\n",
       "      <th>kitchen</th>\n",
       "      <th>living</th>\n",
       "      <th>pets</th>\n",
       "      <th>roommates</th>\n",
       "      <th>shower</th>\n",
       "      <th>smokingInside</th>\n",
       "      <th>toilet</th>\n",
       "      <th>areaSqm_log</th>\n",
       "      <th>rent_log</th>\n",
       "    </tr>\n",
       "  </thead>\n",
       "  <tbody>\n",
       "    <tr>\n",
       "      <th>0</th>\n",
       "      <td>room-1686123</td>\n",
       "      <td>Rotterdam</td>\n",
       "      <td>Unfurnished</td>\n",
       "      <td>3074HN</td>\n",
       "      <td>Room</td>\n",
       "      <td>Missing</td>\n",
       "      <td>West-Varkenoordseweg</td>\n",
       "      <td>Unknown</td>\n",
       "      <td>Yes</td>\n",
       "      <td>true</td>\n",
       "      <td>Shared</td>\n",
       "      <td>None</td>\n",
       "      <td>No</td>\n",
       "      <td>0</td>\n",
       "      <td>Shared</td>\n",
       "      <td>No</td>\n",
       "      <td>Shared</td>\n",
       "      <td>2.639057</td>\n",
       "      <td>6.214608</td>\n",
       "    </tr>\n",
       "    <tr>\n",
       "      <th>1</th>\n",
       "      <td>studio-1691193</td>\n",
       "      <td>Amsterdam</td>\n",
       "      <td>Furnished</td>\n",
       "      <td>1018AS</td>\n",
       "      <td>Studio</td>\n",
       "      <td>Utilities incl.</td>\n",
       "      <td>Parelstraat</td>\n",
       "      <td>Unknown</td>\n",
       "      <td>Yes</td>\n",
       "      <td>true</td>\n",
       "      <td>Own</td>\n",
       "      <td>Own</td>\n",
       "      <td>No</td>\n",
       "      <td>0</td>\n",
       "      <td>Own</td>\n",
       "      <td>No</td>\n",
       "      <td>Own</td>\n",
       "      <td>3.401197</td>\n",
       "      <td>6.856462</td>\n",
       "    </tr>\n",
       "    <tr>\n",
       "      <th>2</th>\n",
       "      <td>room-1690545</td>\n",
       "      <td>Amsterdam</td>\n",
       "      <td>Furnished</td>\n",
       "      <td>1075SB</td>\n",
       "      <td>Room</td>\n",
       "      <td>Utilities incl.</td>\n",
       "      <td>Zeilstraat</td>\n",
       "      <td>Unknown</td>\n",
       "      <td>Yes</td>\n",
       "      <td>true</td>\n",
       "      <td>Shared</td>\n",
       "      <td>Shared</td>\n",
       "      <td>Yes</td>\n",
       "      <td>0</td>\n",
       "      <td>Shared</td>\n",
       "      <td>Yes</td>\n",
       "      <td>Shared</td>\n",
       "      <td>2.397895</td>\n",
       "      <td>6.907755</td>\n",
       "    </tr>\n",
       "    <tr>\n",
       "      <th>3</th>\n",
       "      <td>room-1680036</td>\n",
       "      <td>Assen</td>\n",
       "      <td>Unfurnished</td>\n",
       "      <td>9407BG</td>\n",
       "      <td>Room</td>\n",
       "      <td>Utilities incl.</td>\n",
       "      <td>Ruiterakker</td>\n",
       "      <td>Unknown</td>\n",
       "      <td>Yes</td>\n",
       "      <td>false</td>\n",
       "      <td>Shared</td>\n",
       "      <td>None</td>\n",
       "      <td>No</td>\n",
       "      <td>0</td>\n",
       "      <td>Shared</td>\n",
       "      <td>Yes</td>\n",
       "      <td>Shared</td>\n",
       "      <td>2.772589</td>\n",
       "      <td>5.669881</td>\n",
       "    </tr>\n",
       "    <tr>\n",
       "      <th>4</th>\n",
       "      <td>room-1691356</td>\n",
       "      <td>Rotterdam</td>\n",
       "      <td>Unfurnished</td>\n",
       "      <td>3035AK</td>\n",
       "      <td>Room</td>\n",
       "      <td>Utilities incl.</td>\n",
       "      <td>Zwart Janstraat</td>\n",
       "      <td>Unknown</td>\n",
       "      <td>Unknown</td>\n",
       "      <td>true</td>\n",
       "      <td>Own</td>\n",
       "      <td>Own</td>\n",
       "      <td>No</td>\n",
       "      <td>0</td>\n",
       "      <td>Shared</td>\n",
       "      <td>No</td>\n",
       "      <td>Shared</td>\n",
       "      <td>3.091042</td>\n",
       "      <td>6.163315</td>\n",
       "    </tr>\n",
       "  </tbody>\n",
       "</table>\n",
       "</div>"
      ],
      "text/plain": [
       "       externalId       city      furnish postalCode propertyType  \\\n",
       "0    room-1686123  Rotterdam  Unfurnished     3074HN         Room   \n",
       "1  studio-1691193  Amsterdam    Furnished     1018AS       Studio   \n",
       "2    room-1690545  Amsterdam    Furnished     1075SB         Room   \n",
       "3    room-1680036      Assen  Unfurnished     9407BG         Room   \n",
       "4    room-1691356  Rotterdam  Unfurnished     3035AK         Room   \n",
       "\n",
       "        rentDetail                 title energyLabel internet isRoomActive  \\\n",
       "0          Missing  West-Varkenoordseweg     Unknown      Yes         true   \n",
       "1  Utilities incl.           Parelstraat     Unknown      Yes         true   \n",
       "2  Utilities incl.            Zeilstraat     Unknown      Yes         true   \n",
       "3  Utilities incl.           Ruiterakker     Unknown      Yes        false   \n",
       "4  Utilities incl.       Zwart Janstraat     Unknown  Unknown         true   \n",
       "\n",
       "  kitchen  living pets  roommates  shower smokingInside  toilet  areaSqm_log  \\\n",
       "0  Shared    None   No          0  Shared            No  Shared     2.639057   \n",
       "1     Own     Own   No          0     Own            No     Own     3.401197   \n",
       "2  Shared  Shared  Yes          0  Shared           Yes  Shared     2.397895   \n",
       "3  Shared    None   No          0  Shared           Yes  Shared     2.772589   \n",
       "4     Own     Own   No          0  Shared            No  Shared     3.091042   \n",
       "\n",
       "   rent_log  \n",
       "0  6.214608  \n",
       "1  6.856462  \n",
       "2  6.907755  \n",
       "3  5.669881  \n",
       "4  6.163315  "
      ]
     },
     "execution_count": 69,
     "metadata": {},
     "output_type": "execute_result"
    }
   ],
   "source": [
    "data_ml.head()"
   ]
  },
  {
   "cell_type": "markdown",
   "metadata": {},
   "source": [
    "> ## <font color=brown>Converting categorical features to numbers</font>"
   ]
  },
  {
   "cell_type": "code",
   "execution_count": 73,
   "metadata": {},
   "outputs": [],
   "source": [
    "# looping through ml dataframe to replace string values with ordered numeric values\n",
    "\n",
    "# list of all categorical feature columns\n",
    "for feature in ml_cat: \n",
    "    \n",
    "    # sorting unqiue values for each feature by average rent to get an ordered list \n",
    "    labels_ordered = data_ml.groupby([feature])['rent_log'].mean().sort_values().index\n",
    "    \n",
    "    # creating a dictionary with each unique value as a key and the rank as a value\n",
    "    labels_ordered = {k:i for i, k in enumerate(labels_ordered,0)}\n",
    "    \n",
    "    # mapping the dictionary to the columns in the dataframe to replace the values with the dictionary values\n",
    "    data_ml[feature] = data_ml[feature].map(labels_ordered)"
   ]
  },
  {
   "cell_type": "code",
   "execution_count": 75,
   "metadata": {},
   "outputs": [
    {
     "data": {
      "text/html": [
       "<div>\n",
       "<style scoped>\n",
       "    .dataframe tbody tr th:only-of-type {\n",
       "        vertical-align: middle;\n",
       "    }\n",
       "\n",
       "    .dataframe tbody tr th {\n",
       "        vertical-align: top;\n",
       "    }\n",
       "\n",
       "    .dataframe thead th {\n",
       "        text-align: right;\n",
       "    }\n",
       "</style>\n",
       "<table border=\"1\" class=\"dataframe\">\n",
       "  <thead>\n",
       "    <tr style=\"text-align: right;\">\n",
       "      <th></th>\n",
       "      <th>city</th>\n",
       "      <th>furnish</th>\n",
       "      <th>postalCode</th>\n",
       "      <th>propertyType</th>\n",
       "      <th>rentDetail</th>\n",
       "      <th>title</th>\n",
       "      <th>energyLabel</th>\n",
       "      <th>internet</th>\n",
       "      <th>isRoomActive</th>\n",
       "      <th>kitchen</th>\n",
       "      <th>living</th>\n",
       "      <th>pets</th>\n",
       "      <th>roommates</th>\n",
       "      <th>shower</th>\n",
       "      <th>smokingInside</th>\n",
       "      <th>toilet</th>\n",
       "      <th>areaSqm_log</th>\n",
       "      <th>rent_log</th>\n",
       "    </tr>\n",
       "  </thead>\n",
       "  <tbody>\n",
       "    <tr>\n",
       "      <th>count</th>\n",
       "      <td>12749.000000</td>\n",
       "      <td>12749.000000</td>\n",
       "      <td>12749.000000</td>\n",
       "      <td>12749.000000</td>\n",
       "      <td>12749.000000</td>\n",
       "      <td>12749.000000</td>\n",
       "      <td>12749.000000</td>\n",
       "      <td>12749.000000</td>\n",
       "      <td>12749.000000</td>\n",
       "      <td>12749.000000</td>\n",
       "      <td>12749.000000</td>\n",
       "      <td>12749.000000</td>\n",
       "      <td>12749.0</td>\n",
       "      <td>12749.000000</td>\n",
       "      <td>12749.000000</td>\n",
       "      <td>12749.000000</td>\n",
       "      <td>12749.000000</td>\n",
       "      <td>12749.000000</td>\n",
       "    </tr>\n",
       "    <tr>\n",
       "      <th>mean</th>\n",
       "      <td>250.879677</td>\n",
       "      <td>1.333987</td>\n",
       "      <td>3937.285199</td>\n",
       "      <td>2.587968</td>\n",
       "      <td>0.297121</td>\n",
       "      <td>2564.483018</td>\n",
       "      <td>1.363401</td>\n",
       "      <td>0.497843</td>\n",
       "      <td>0.813554</td>\n",
       "      <td>1.056083</td>\n",
       "      <td>1.459330</td>\n",
       "      <td>0.175935</td>\n",
       "      <td>0.0</td>\n",
       "      <td>0.594556</td>\n",
       "      <td>0.954898</td>\n",
       "      <td>0.593301</td>\n",
       "      <td>3.166274</td>\n",
       "      <td>6.331214</td>\n",
       "    </tr>\n",
       "    <tr>\n",
       "      <th>std</th>\n",
       "      <td>97.909508</td>\n",
       "      <td>0.731528</td>\n",
       "      <td>2287.761356</td>\n",
       "      <td>0.897675</td>\n",
       "      <td>0.457008</td>\n",
       "      <td>1423.311298</td>\n",
       "      <td>1.092568</td>\n",
       "      <td>0.834200</td>\n",
       "      <td>0.389481</td>\n",
       "      <td>1.263549</td>\n",
       "      <td>1.056015</td>\n",
       "      <td>0.516771</td>\n",
       "      <td>0.0</td>\n",
       "      <td>0.783881</td>\n",
       "      <td>0.427985</td>\n",
       "      <td>0.782429</td>\n",
       "      <td>0.748460</td>\n",
       "      <td>0.601963</td>\n",
       "    </tr>\n",
       "    <tr>\n",
       "      <th>min</th>\n",
       "      <td>0.000000</td>\n",
       "      <td>0.000000</td>\n",
       "      <td>0.000000</td>\n",
       "      <td>0.000000</td>\n",
       "      <td>0.000000</td>\n",
       "      <td>0.000000</td>\n",
       "      <td>0.000000</td>\n",
       "      <td>0.000000</td>\n",
       "      <td>0.000000</td>\n",
       "      <td>0.000000</td>\n",
       "      <td>0.000000</td>\n",
       "      <td>0.000000</td>\n",
       "      <td>0.0</td>\n",
       "      <td>0.000000</td>\n",
       "      <td>0.000000</td>\n",
       "      <td>0.000000</td>\n",
       "      <td>1.791759</td>\n",
       "      <td>0.000000</td>\n",
       "    </tr>\n",
       "    <tr>\n",
       "      <th>25%</th>\n",
       "      <td>194.000000</td>\n",
       "      <td>1.000000</td>\n",
       "      <td>1918.000000</td>\n",
       "      <td>2.000000</td>\n",
       "      <td>0.000000</td>\n",
       "      <td>1375.000000</td>\n",
       "      <td>1.000000</td>\n",
       "      <td>0.000000</td>\n",
       "      <td>1.000000</td>\n",
       "      <td>0.000000</td>\n",
       "      <td>1.000000</td>\n",
       "      <td>0.000000</td>\n",
       "      <td>0.0</td>\n",
       "      <td>0.000000</td>\n",
       "      <td>1.000000</td>\n",
       "      <td>0.000000</td>\n",
       "      <td>2.639057</td>\n",
       "      <td>5.926926</td>\n",
       "    </tr>\n",
       "    <tr>\n",
       "      <th>50%</th>\n",
       "      <td>260.000000</td>\n",
       "      <td>1.000000</td>\n",
       "      <td>3959.000000</td>\n",
       "      <td>2.000000</td>\n",
       "      <td>0.000000</td>\n",
       "      <td>2588.000000</td>\n",
       "      <td>1.000000</td>\n",
       "      <td>0.000000</td>\n",
       "      <td>1.000000</td>\n",
       "      <td>0.000000</td>\n",
       "      <td>1.000000</td>\n",
       "      <td>0.000000</td>\n",
       "      <td>0.0</td>\n",
       "      <td>0.000000</td>\n",
       "      <td>1.000000</td>\n",
       "      <td>0.000000</td>\n",
       "      <td>2.995732</td>\n",
       "      <td>6.263398</td>\n",
       "    </tr>\n",
       "    <tr>\n",
       "      <th>75%</th>\n",
       "      <td>326.000000</td>\n",
       "      <td>2.000000</td>\n",
       "      <td>5833.000000</td>\n",
       "      <td>4.000000</td>\n",
       "      <td>1.000000</td>\n",
       "      <td>3714.000000</td>\n",
       "      <td>1.000000</td>\n",
       "      <td>1.000000</td>\n",
       "      <td>1.000000</td>\n",
       "      <td>2.000000</td>\n",
       "      <td>2.000000</td>\n",
       "      <td>0.000000</td>\n",
       "      <td>0.0</td>\n",
       "      <td>1.000000</td>\n",
       "      <td>1.000000</td>\n",
       "      <td>1.000000</td>\n",
       "      <td>3.688879</td>\n",
       "      <td>6.684612</td>\n",
       "    </tr>\n",
       "    <tr>\n",
       "      <th>max</th>\n",
       "      <td>475.000000</td>\n",
       "      <td>3.000000</td>\n",
       "      <td>8069.000000</td>\n",
       "      <td>4.000000</td>\n",
       "      <td>1.000000</td>\n",
       "      <td>5260.000000</td>\n",
       "      <td>7.000000</td>\n",
       "      <td>2.000000</td>\n",
       "      <td>1.000000</td>\n",
       "      <td>3.000000</td>\n",
       "      <td>3.000000</td>\n",
       "      <td>2.000000</td>\n",
       "      <td>0.0</td>\n",
       "      <td>2.000000</td>\n",
       "      <td>2.000000</td>\n",
       "      <td>2.000000</td>\n",
       "      <td>6.514713</td>\n",
       "      <td>8.699348</td>\n",
       "    </tr>\n",
       "  </tbody>\n",
       "</table>\n",
       "</div>"
      ],
      "text/plain": [
       "               city       furnish    postalCode  propertyType    rentDetail  \\\n",
       "count  12749.000000  12749.000000  12749.000000  12749.000000  12749.000000   \n",
       "mean     250.879677      1.333987   3937.285199      2.587968      0.297121   \n",
       "std       97.909508      0.731528   2287.761356      0.897675      0.457008   \n",
       "min        0.000000      0.000000      0.000000      0.000000      0.000000   \n",
       "25%      194.000000      1.000000   1918.000000      2.000000      0.000000   \n",
       "50%      260.000000      1.000000   3959.000000      2.000000      0.000000   \n",
       "75%      326.000000      2.000000   5833.000000      4.000000      1.000000   \n",
       "max      475.000000      3.000000   8069.000000      4.000000      1.000000   \n",
       "\n",
       "              title   energyLabel      internet  isRoomActive       kitchen  \\\n",
       "count  12749.000000  12749.000000  12749.000000  12749.000000  12749.000000   \n",
       "mean    2564.483018      1.363401      0.497843      0.813554      1.056083   \n",
       "std     1423.311298      1.092568      0.834200      0.389481      1.263549   \n",
       "min        0.000000      0.000000      0.000000      0.000000      0.000000   \n",
       "25%     1375.000000      1.000000      0.000000      1.000000      0.000000   \n",
       "50%     2588.000000      1.000000      0.000000      1.000000      0.000000   \n",
       "75%     3714.000000      1.000000      1.000000      1.000000      2.000000   \n",
       "max     5260.000000      7.000000      2.000000      1.000000      3.000000   \n",
       "\n",
       "             living          pets  roommates        shower  smokingInside  \\\n",
       "count  12749.000000  12749.000000    12749.0  12749.000000   12749.000000   \n",
       "mean       1.459330      0.175935        0.0      0.594556       0.954898   \n",
       "std        1.056015      0.516771        0.0      0.783881       0.427985   \n",
       "min        0.000000      0.000000        0.0      0.000000       0.000000   \n",
       "25%        1.000000      0.000000        0.0      0.000000       1.000000   \n",
       "50%        1.000000      0.000000        0.0      0.000000       1.000000   \n",
       "75%        2.000000      0.000000        0.0      1.000000       1.000000   \n",
       "max        3.000000      2.000000        0.0      2.000000       2.000000   \n",
       "\n",
       "             toilet   areaSqm_log      rent_log  \n",
       "count  12749.000000  12749.000000  12749.000000  \n",
       "mean       0.593301      3.166274      6.331214  \n",
       "std        0.782429      0.748460      0.601963  \n",
       "min        0.000000      1.791759      0.000000  \n",
       "25%        0.000000      2.639057      5.926926  \n",
       "50%        0.000000      2.995732      6.263398  \n",
       "75%        1.000000      3.688879      6.684612  \n",
       "max        2.000000      6.514713      8.699348  "
      ]
     },
     "execution_count": 75,
     "metadata": {},
     "output_type": "execute_result"
    }
   ],
   "source": [
    "data_ml.describe()"
   ]
  },
  {
   "cell_type": "markdown",
   "metadata": {},
   "source": [
    "> ## <font color=brown>Feature scaling and splitting data</font>"
   ]
  },
  {
   "cell_type": "code",
   "execution_count": 76,
   "metadata": {},
   "outputs": [
    {
     "data": {
      "text/plain": [
       "MinMaxScaler(copy=True, feature_range=(0, 1))"
      ]
     },
     "execution_count": 76,
     "metadata": {},
     "output_type": "execute_result"
    }
   ],
   "source": [
    "# scaling the data\n",
    "\n",
    "# dropping id's and our target 'rent'\n",
    "feature_scale = [feature for feature in data_ml.columns if feature not in ['externalId', 'rent_log']]\n",
    "\n",
    "# initializing the scaler\n",
    "scaler = MinMaxScaler()\n",
    "\n",
    "# fiting the data to the scaler\n",
    "scaler.fit(data_ml[feature_scale])\n",
    "\n",
    "#try using standard scalar for different results"
   ]
  },
  {
   "cell_type": "code",
   "execution_count": 77,
   "metadata": {},
   "outputs": [],
   "source": [
    "# spliting the data into independant features and dependant features(target)\n",
    "\n",
    "y = data_ml.rent_log\n",
    "\n",
    "data_ml.drop(['externalId', 'rent_log'], axis= 1, inplace=True)\n",
    "\n",
    "X = data_ml"
   ]
  },
  {
   "cell_type": "code",
   "execution_count": 78,
   "metadata": {},
   "outputs": [],
   "source": [
    "# splitting the data into training and testing sets with a test size of 30%\n",
    "X_train, X_test, y_train, y_test = train_test_split(X,y,test_size=0.3)"
   ]
  },
  {
   "cell_type": "markdown",
   "metadata": {},
   "source": [
    "# <font color=teal>Training the Model</font>"
   ]
  },
  {
   "cell_type": "markdown",
   "metadata": {},
   "source": [
    "> ## <font color=brown>Initializing Lasso regression and selecting features</font><br>\n",
    "Lasso regression analysis is a shrinkage and variable selection method for linear regression models. The goal of lasso regression is to obtain the subset of predictors that minimizes prediction error for a quantitative response variable. The lasso does this by imposing a constraint on the model parameters that causes regression coefficients for some variables to shrink toward zero. Variables with a regression coefficient equal to zero after the shrinkage process are excluded from the model. Variables with non-zero regression coefficients variables are most strongly associated with the response variable."
   ]
  },
  {
   "cell_type": "code",
   "execution_count": 80,
   "metadata": {},
   "outputs": [
    {
     "data": {
      "text/plain": [
       "SelectFromModel(estimator=Lasso(alpha=0.0005, copy_X=True, fit_intercept=True,\n",
       "                                max_iter=1000, normalize=False, positive=False,\n",
       "                                precompute=False, random_state=42,\n",
       "                                selection='cyclic', tol=0.0001,\n",
       "                                warm_start=False),\n",
       "                max_features=None, norm_order=1, prefit=False, threshold=None)"
      ]
     },
     "execution_count": 80,
     "metadata": {},
     "output_type": "execute_result"
    }
   ],
   "source": [
    "# initializing the Lasso model \n",
    "feature_sel_model = SelectFromModel(Lasso(alpha=0.0005, random_state=42))\n",
    "feature_sel_model.fit(X_train,y_train)"
   ]
  },
  {
   "cell_type": "code",
   "execution_count": 84,
   "metadata": {},
   "outputs": [
    {
     "name": "stdout",
     "output_type": "stream",
     "text": [
      "total features: 17\n",
      "selected features: 11\n",
      "features with coefficients shrank to zero: 6\n"
     ]
    }
   ],
   "source": [
    "# analyzing the independant feature columns\n",
    "\n",
    "# creating a subset of the ml dataframe with only the selected features by Lasso\n",
    "selected_feat = X_train.columns[(feature_sel_model.get_support())]\n",
    "\n",
    "# total number of independant feature columns\n",
    "print('total features: {}'.format(X_train.shape[1]))\n",
    "\n",
    "# number of independant feature columns selected for the model based on Lasso's alpha value\n",
    "print('selected features: {}'.format(len(selected_feat),selected_feat))\n",
    "\n",
    "# number of independant feature columns where coefficients were shrank to zero\n",
    "print('features with coefficients shrank to zero: {}'.format(X_train.shape[1] - len(selected_feat)))"
   ]
  },
  {
   "cell_type": "code",
   "execution_count": 85,
   "metadata": {},
   "outputs": [],
   "source": [
    "# subsetting X_train and X_test data to only include selected features by Lasso\n",
    "X_train = X_train[selected_feat]\n",
    "X_test = X_test[selected_feat]"
   ]
  },
  {
   "cell_type": "markdown",
   "metadata": {},
   "source": [
    "lasso = Lasso()\n",
    "\n",
    "parameters = {'alpha': [1e-15, 1e-10, 1e-8, 1e-4, 1e-3, 1e-2, 1, 5, 10, 20]}\n",
    "\n",
    "lasso_regressor = GridSearchCV(lasso, parameters, scoring = 'neg_mean_squared_error', cv = 5)\n",
    "\n",
    "lasso_regressor.fit(X_train, y_train)\n",
    "\n",
    "print(lasso_regressor.best_params_)\n",
    "print(lasso_regressor.best_score_)"
   ]
  },
  {
   "cell_type": "markdown",
   "metadata": {},
   "source": [
    "lasso_regressor.score(X_test, y_test)"
   ]
  },
  {
   "cell_type": "markdown",
   "metadata": {},
   "source": [
    "> ## <font color=brown>Training and scoring the model</font><br>"
   ]
  },
  {
   "cell_type": "code",
   "execution_count": 86,
   "metadata": {},
   "outputs": [
    {
     "data": {
      "text/plain": [
       "Lasso(alpha=1.0, copy_X=True, fit_intercept=True, max_iter=1000,\n",
       "      normalize=False, positive=False, precompute=False, random_state=None,\n",
       "      selection='cyclic', tol=0.0001, warm_start=False)"
      ]
     },
     "execution_count": 86,
     "metadata": {},
     "output_type": "execute_result"
    }
   ],
   "source": [
    "lasso = Lasso()\n",
    "lasso.fit(X_train,y_train)\n",
    "train_score=lasso.score(X_train,y_train)\n",
    "test_score=lasso.score(X_test,y_test)\n",
    "coeff_used = np.sum(lasso.coef_!=0)\n"
   ]
  },
  {
   "cell_type": "code",
   "execution_count": 87,
   "metadata": {},
   "outputs": [
    {
     "data": {
      "text/plain": [
       "0.7691502325993274"
      ]
     },
     "execution_count": 87,
     "metadata": {},
     "output_type": "execute_result"
    }
   ],
   "source": [
    "train_score"
   ]
  },
  {
   "cell_type": "code",
   "execution_count": 88,
   "metadata": {},
   "outputs": [
    {
     "data": {
      "text/plain": [
       "0.7459106311421874"
      ]
     },
     "execution_count": 88,
     "metadata": {},
     "output_type": "execute_result"
    }
   ],
   "source": [
    "test_score"
   ]
  },
  {
   "cell_type": "code",
   "execution_count": 89,
   "metadata": {},
   "outputs": [
    {
     "data": {
      "text/plain": [
       "2"
      ]
     },
     "execution_count": 89,
     "metadata": {},
     "output_type": "execute_result"
    }
   ],
   "source": [
    "coeff_used"
   ]
  },
  {
   "cell_type": "code",
   "execution_count": 90,
   "metadata": {},
   "outputs": [],
   "source": [
    "predictions = lasso.predict(X_test)"
   ]
  },
  {
   "cell_type": "code",
   "execution_count": 91,
   "metadata": {},
   "outputs": [
    {
     "data": {
      "text/plain": [
       "Text(0.5, 0, 'True Values')"
      ]
     },
     "execution_count": 91,
     "metadata": {},
     "output_type": "execute_result"
    },
    {
     "data": {
      "text/plain": [
       "Text(0, 0.5, 'Predictions')"
      ]
     },
     "execution_count": 91,
     "metadata": {},
     "output_type": "execute_result"
    },
    {
     "data": {
      "image/png": "[encoded data removed]",
      "text/plain": [
       "<Figure size 432x288 with 1 Axes>"
      ]
     },
     "metadata": {
      "needs_background": "light"
     },
     "output_type": "display_data"
    }
   ],
   "source": [
    "## The line / model\n",
    "_=plt.scatter(y_test, predictions)\n",
    "plt.xlabel(\"True Values\")\n",
    "plt.ylabel(\"Predictions\")"
   ]
  },
  {
   "cell_type": "markdown",
   "metadata": {},
   "source": [
    "> <font color=brown>Cross Validation</font>"
   ]
  },
  {
   "cell_type": "code",
   "execution_count": 95,
   "metadata": {},
   "outputs": [],
   "source": [
    "MSEs = cross_val_score(lasso, X, y, scoring='neg_mean_squared_error', cv=4 )"
   ]
  },
  {
   "cell_type": "code",
   "execution_count": 96,
   "metadata": {},
   "outputs": [
    {
     "name": "stdout",
     "output_type": "stream",
     "text": [
      "-0.0866459503759819\n"
     ]
    }
   ],
   "source": [
    "mean_MSE = np.mean(MSEs)\n",
    "print(mean_MSE)"
   ]
  },
  {
   "cell_type": "code",
   "execution_count": 97,
   "metadata": {},
   "outputs": [
    {
     "data": {
      "text/plain": [
       "array([-0.09599909, -0.10835285, -0.10531908, -0.03691278])"
      ]
     },
     "execution_count": 97,
     "metadata": {},
     "output_type": "execute_result"
    }
   ],
   "source": [
    "MSEs"
   ]
  },
  {
   "cell_type": "code",
   "execution_count": 103,
   "metadata": {},
   "outputs": [],
   "source": [
    "new = (-0.09599909 * -0.10835285 * -0.10531908 * -0.03691278)"
   ]
  },
  {
   "cell_type": "code",
   "execution_count": null,
   "metadata": {},
   "outputs": [],
   "source": []
  }
 ],
 "metadata": {
  "kernelspec": {
   "display_name": "Python 3",
   "language": "python",
   "name": "python3"
  },
  "language_info": {
   "codemirror_mode": {
    "name": "ipython",
    "version": 3
   },
   "file_extension": ".py",
   "mimetype": "text/x-python",
   "name": "python",
   "nbconvert_exporter": "python",
   "pygments_lexer": "ipython3",
   "version": "3.7.3"
  },
  "toc": {
   "base_numbering": 1,
   "nav_menu": {},
   "number_sections": true,
   "sideBar": true,
   "skip_h1_title": false,
   "title_cell": "Table of Contents",
   "title_sidebar": "Contents",
   "toc_cell": false,
   "toc_position": {},
   "toc_section_display": true,
   "toc_window_display": true
  },
  "varInspector": {
   "cols": {
    "lenName": 16,
    "lenType": 16,
    "lenVar": 40
   },
   "kernels_config": {
    "python": {
     "delete_cmd_postfix": "",
     "delete_cmd_prefix": "del ",
     "library": "var_list.py",
     "varRefreshCmd": "print(var_dic_list())"
    },
    "r": {
     "delete_cmd_postfix": ") ",
     "delete_cmd_prefix": "rm(",
     "library": "var_list.r",
     "varRefreshCmd": "cat(var_dic_list()) "
    }
   },
   "types_to_exclude": [
    "module",
    "function",
    "builtin_function_or_method",
    "instance",
    "_Feature"
   ],
   "window_display": false
  }
 },
 "nbformat": 4,
 "nbformat_minor": 4
}
