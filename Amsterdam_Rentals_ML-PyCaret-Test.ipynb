{
 "cells": [
  {
   "cell_type": "markdown",
   "metadata": {},
   "source": [
    "<font size = 40 color=darkgreen>Dutch Rental Prices</font><br>\n",
    "*Both my friends and myself have often asked the question, 'How much rent could I charge for my apartment?' The question becomes very complex as we start assuming that location, size, amenities, furnished, and many more attributes need to be considered when deciding on a rental price. My goal for this project is to build a model that will weigh all the attributes available using data from a popular rental website in the Netherlands, Kamernet. <BR>  \n",
    "*Creating a regression model to predict the rental prices in the Netherlands using data from kamernet.nl*<br>\n",
    "**Steps:**<br>\n",
    "1. Importing libraries and reading data\n",
    "2. EDA and re-shaping data for ML pre-processing \n",
    "3. PyCaret setup\n",
    "4. Adjust base data, repeat compare and create steps"
   ]
  },
  {
   "cell_type": "markdown",
   "metadata": {},
   "source": [
    "# <font color=teal>Import data</font>"
   ]
  },
  {
   "cell_type": "code",
   "execution_count": 1,
   "metadata": {},
   "outputs": [],
   "source": [
    "# Data manipulation\n",
    "import pandas as pd\n",
    "import numpy as np\n",
    "\n",
    "# ML libraries\n",
    "import pycaret.regression as py\n",
    "from pycaret.regression import *\n",
    "\n",
    "# Options for pandas\n",
    "pd.options.display.max_columns\n",
    "pd.options.display.max_rows = 30\n",
    "\n",
    "# Visualizations\n",
    "from matplotlib import pyplot as plt\n",
    "import seaborn as sns\n",
    "import missingno as msno\n",
    "import chart_studio.plotly as pl\n",
    "import plotly.graph_objs as go\n",
    "from plotly.offline import iplot, init_notebook_mode"
   ]
  },
  {
   "cell_type": "code",
   "execution_count": 2,
   "metadata": {},
   "outputs": [],
   "source": [
    "# Reading json data from Kamernet\n",
    "\n",
    "#Git\n",
    "source = 'https://github.com/michael-william/Netherlands-Rental-Prices/raw/master/properties-trim.json'\n",
    "df=pd.read_json(source, lines=True)\n"
   ]
  },
  {
   "cell_type": "markdown",
   "metadata": {},
   "source": [
    "# <font color=teal>EDA and reshaping data</font>"
   ]
  },
  {
   "cell_type": "markdown",
   "metadata": {},
   "source": [
    "> **<font color=brown>Overview</font>**\n",
    "> 1. Dropping non-needed columns\n",
    "> 2. Missing values\n",
    "> 3. Cardinality of categorical values"
   ]
  },
  {
   "cell_type": "code",
   "execution_count": 5,
   "metadata": {},
   "outputs": [],
   "source": [
    "# Creating copy of main df\n",
    "data = df[['areaSqm', 'furnish', 'latitude', 'longitude', 'propertyType', 'roommates','rent']]"
   ]
  },
  {
   "cell_type": "code",
   "execution_count": 6,
   "metadata": {},
   "outputs": [
    {
     "name": "stderr",
     "output_type": "stream",
     "text": [
      "/Users/michaelcondon/anaconda3/lib/python3.7/site-packages/ipykernel_launcher.py:2: SettingWithCopyWarning:\n",
      "\n",
      "\n",
      "A value is trying to be set on a copy of a slice from a DataFrame.\n",
      "Try using .loc[row_indexer,col_indexer] = value instead\n",
      "\n",
      "See the caveats in the documentation: https://pandas.pydata.org/pandas-docs/stable/user_guide/indexing.html#returning-a-view-versus-a-copy\n",
      "\n",
      "/Users/michaelcondon/anaconda3/lib/python3.7/site-packages/ipykernel_launcher.py:3: SettingWithCopyWarning:\n",
      "\n",
      "\n",
      "A value is trying to be set on a copy of a slice from a DataFrame.\n",
      "Try using .loc[row_indexer,col_indexer] = value instead\n",
      "\n",
      "See the caveats in the documentation: https://pandas.pydata.org/pandas-docs/stable/user_guide/indexing.html#returning-a-view-versus-a-copy\n",
      "\n",
      "/Users/michaelcondon/anaconda3/lib/python3.7/site-packages/ipykernel_launcher.py:4: SettingWithCopyWarning:\n",
      "\n",
      "\n",
      "A value is trying to be set on a copy of a slice from a DataFrame.\n",
      "Try using .loc[row_indexer,col_indexer] = value instead\n",
      "\n",
      "See the caveats in the documentation: https://pandas.pydata.org/pandas-docs/stable/user_guide/indexing.html#returning-a-view-versus-a-copy\n",
      "\n",
      "/Users/michaelcondon/anaconda3/lib/python3.7/site-packages/ipykernel_launcher.py:5: SettingWithCopyWarning:\n",
      "\n",
      "\n",
      "A value is trying to be set on a copy of a slice from a DataFrame.\n",
      "Try using .loc[row_indexer,col_indexer] = value instead\n",
      "\n",
      "See the caveats in the documentation: https://pandas.pydata.org/pandas-docs/stable/user_guide/indexing.html#returning-a-view-versus-a-copy\n",
      "\n",
      "/Users/michaelcondon/anaconda3/lib/python3.7/site-packages/ipykernel_launcher.py:6: SettingWithCopyWarning:\n",
      "\n",
      "\n",
      "A value is trying to be set on a copy of a slice from a DataFrame.\n",
      "Try using .loc[row_indexer,col_indexer] = value instead\n",
      "\n",
      "See the caveats in the documentation: https://pandas.pydata.org/pandas-docs/stable/user_guide/indexing.html#returning-a-view-versus-a-copy\n",
      "\n",
      "/Users/michaelcondon/anaconda3/lib/python3.7/site-packages/ipykernel_launcher.py:7: SettingWithCopyWarning:\n",
      "\n",
      "\n",
      "A value is trying to be set on a copy of a slice from a DataFrame.\n",
      "Try using .loc[row_indexer,col_indexer] = value instead\n",
      "\n",
      "See the caveats in the documentation: https://pandas.pydata.org/pandas-docs/stable/user_guide/indexing.html#returning-a-view-versus-a-copy\n",
      "\n",
      "/Users/michaelcondon/anaconda3/lib/python3.7/site-packages/ipykernel_launcher.py:8: SettingWithCopyWarning:\n",
      "\n",
      "\n",
      "A value is trying to be set on a copy of a slice from a DataFrame.\n",
      "Try using .loc[row_indexer,col_indexer] = value instead\n",
      "\n",
      "See the caveats in the documentation: https://pandas.pydata.org/pandas-docs/stable/user_guide/indexing.html#returning-a-view-versus-a-copy\n",
      "\n"
     ]
    }
   ],
   "source": [
    "# converting 'roommates' feature to 'int' and creating a new binary feature called 'shared'\n",
    "data['roommates'] = data.roommates.replace(to_replace='None', value=0)\n",
    "data['roommates'] = data.roommates.replace(to_replace='More than 8', value=9)\n",
    "data['roommates'] = data.roommates.replace(to_replace='Unknown', value=0)\n",
    "data['roommates'] = data.roommates.replace(to_replace='nan', value=0)\n",
    "data['roommates'] = data.roommates.fillna(0)\n",
    "data['roommates'] = data.roommates.astype('int')\n",
    "data['shared'] = [1 if x>0 else 0 for x in data.roommates]"
   ]
  },
  {
   "cell_type": "code",
   "execution_count": 7,
   "metadata": {},
   "outputs": [
    {
     "name": "stdout",
     "output_type": "stream",
     "text": [
      "<class 'pandas.core.frame.DataFrame'>\n",
      "RangeIndex: 12830 entries, 0 to 12829\n",
      "Data columns (total 8 columns):\n",
      " #   Column        Non-Null Count  Dtype  \n",
      "---  ------        --------------  -----  \n",
      " 0   areaSqm       12830 non-null  int64  \n",
      " 1   furnish       12830 non-null  object \n",
      " 2   latitude      12830 non-null  float64\n",
      " 3   longitude     12830 non-null  float64\n",
      " 4   propertyType  12830 non-null  object \n",
      " 5   roommates     12830 non-null  int64  \n",
      " 6   rent          12830 non-null  int64  \n",
      " 7   shared        12830 non-null  int64  \n",
      "dtypes: float64(2), int64(4), object(2)\n",
      "memory usage: 802.0+ KB\n"
     ]
    }
   ],
   "source": [
    "data.info()"
   ]
  },
  {
   "cell_type": "code",
   "execution_count": 16,
   "metadata": {},
   "outputs": [
    {
     "name": "stdout",
     "output_type": "stream",
     "text": [
      "Transformation Pipeline and Model Sucessfully Loaded\n"
     ]
    },
    {
     "data": {
      "text/plain": [
       "[Pipeline(memory=None,\n",
       "          steps=[('dtypes',\n",
       "                  DataTypes_Auto_infer(categorical_features=[],\n",
       "                                       display_types=True,\n",
       "                                       features_todrop=['toilet', 'shower',\n",
       "                                                        'living', 'kitchen'],\n",
       "                                       ml_usecase='regression',\n",
       "                                       numerical_features=[], target='rent',\n",
       "                                       time_features=[])),\n",
       "                 ('imputer',\n",
       "                  Simple_Imputer(categorical_strategy='not_available',\n",
       "                                 numeric_strategy='mean',\n",
       "                                 target_variable=None)),\n",
       "                 ('ne...\n",
       "                 ('group', Empty()), ('nonliner', Empty()), ('scaling', Empty()),\n",
       "                 ('P_transform', Empty()), ('pt_target', Empty()),\n",
       "                 ('binn', Empty()), ('rem_outliers', Empty()),\n",
       "                 ('cluster_all', Empty()), ('dummy', Dummify(target='rent')),\n",
       "                 ('fix_perfect', Remove_100(target='rent')),\n",
       "                 ('clean_names', Clean_Colum_Names()),\n",
       "                 ('feature_select', Empty()), ('fix_multi', Empty()),\n",
       "                 ('dfs', Empty()), ('pca', Empty())],\n",
       "          verbose=False),\n",
       " RandomForestRegressor(bootstrap=True, ccp_alpha=0.0, criterion='mse',\n",
       "                       max_depth=None, max_features='auto', max_leaf_nodes=None,\n",
       "                       max_samples=None, min_impurity_decrease=0.0,\n",
       "                       min_impurity_split=None, min_samples_leaf=1,\n",
       "                       min_samples_split=2, min_weight_fraction_leaf=0.0,\n",
       "                       n_estimators=100, n_jobs=None, oob_score=False,\n",
       "                       random_state=8046, verbose=0, warm_start=False),\n",
       " None]"
      ]
     },
     "execution_count": 16,
     "metadata": {},
     "output_type": "execute_result"
    }
   ],
   "source": [
    "py.load_model('/Users/michaelcondon/Documents/GitHub/Amsterdam rentals/Netherlands-Rental-Prices/dutch_pycaret_rf')"
   ]
  },
  {
   "cell_type": "code",
   "execution_count": 20,
   "metadata": {},
   "outputs": [],
   "source": [
    "label_df = predict_model('dutch_pycaret_rf', data=data)"
   ]
  },
  {
   "cell_type": "code",
   "execution_count": 21,
   "metadata": {},
   "outputs": [
    {
     "data": {
      "text/html": [
       "<div>\n",
       "<style scoped>\n",
       "    .dataframe tbody tr th:only-of-type {\n",
       "        vertical-align: middle;\n",
       "    }\n",
       "\n",
       "    .dataframe tbody tr th {\n",
       "        vertical-align: top;\n",
       "    }\n",
       "\n",
       "    .dataframe thead th {\n",
       "        text-align: right;\n",
       "    }\n",
       "</style>\n",
       "<table border=\"1\" class=\"dataframe\">\n",
       "  <thead>\n",
       "    <tr style=\"text-align: right;\">\n",
       "      <th></th>\n",
       "      <th>areaSqm</th>\n",
       "      <th>furnish</th>\n",
       "      <th>latitude</th>\n",
       "      <th>longitude</th>\n",
       "      <th>propertyType</th>\n",
       "      <th>roommates</th>\n",
       "      <th>rent</th>\n",
       "      <th>shared</th>\n",
       "      <th>Label</th>\n",
       "    </tr>\n",
       "  </thead>\n",
       "  <tbody>\n",
       "    <tr>\n",
       "      <th>0</th>\n",
       "      <td>14</td>\n",
       "      <td>Unfurnished</td>\n",
       "      <td>51.896601</td>\n",
       "      <td>4.514993</td>\n",
       "      <td>Room</td>\n",
       "      <td>5</td>\n",
       "      <td>500</td>\n",
       "      <td>1</td>\n",
       "      <td>494.2500</td>\n",
       "    </tr>\n",
       "    <tr>\n",
       "      <th>1</th>\n",
       "      <td>30</td>\n",
       "      <td>Furnished</td>\n",
       "      <td>52.370200</td>\n",
       "      <td>4.920721</td>\n",
       "      <td>Studio</td>\n",
       "      <td>0</td>\n",
       "      <td>950</td>\n",
       "      <td>0</td>\n",
       "      <td>1021.1833</td>\n",
       "    </tr>\n",
       "    <tr>\n",
       "      <th>2</th>\n",
       "      <td>11</td>\n",
       "      <td>Furnished</td>\n",
       "      <td>52.350880</td>\n",
       "      <td>4.854786</td>\n",
       "      <td>Room</td>\n",
       "      <td>1</td>\n",
       "      <td>1000</td>\n",
       "      <td>1</td>\n",
       "      <td>940.1000</td>\n",
       "    </tr>\n",
       "    <tr>\n",
       "      <th>3</th>\n",
       "      <td>16</td>\n",
       "      <td>Unfurnished</td>\n",
       "      <td>53.013494</td>\n",
       "      <td>6.561012</td>\n",
       "      <td>Room</td>\n",
       "      <td>4</td>\n",
       "      <td>290</td>\n",
       "      <td>1</td>\n",
       "      <td>307.3700</td>\n",
       "    </tr>\n",
       "    <tr>\n",
       "      <th>4</th>\n",
       "      <td>22</td>\n",
       "      <td>Unfurnished</td>\n",
       "      <td>51.932871</td>\n",
       "      <td>4.479732</td>\n",
       "      <td>Room</td>\n",
       "      <td>1</td>\n",
       "      <td>475</td>\n",
       "      <td>1</td>\n",
       "      <td>459.7200</td>\n",
       "    </tr>\n",
       "    <tr>\n",
       "      <th>...</th>\n",
       "      <td>...</td>\n",
       "      <td>...</td>\n",
       "      <td>...</td>\n",
       "      <td>...</td>\n",
       "      <td>...</td>\n",
       "      <td>...</td>\n",
       "      <td>...</td>\n",
       "      <td>...</td>\n",
       "      <td>...</td>\n",
       "    </tr>\n",
       "    <tr>\n",
       "      <th>12825</th>\n",
       "      <td>35</td>\n",
       "      <td>Unfurnished</td>\n",
       "      <td>52.368030</td>\n",
       "      <td>5.205308</td>\n",
       "      <td>Room</td>\n",
       "      <td>1</td>\n",
       "      <td>750</td>\n",
       "      <td>1</td>\n",
       "      <td>726.0500</td>\n",
       "    </tr>\n",
       "    <tr>\n",
       "      <th>12826</th>\n",
       "      <td>10</td>\n",
       "      <td>Furnished</td>\n",
       "      <td>51.690365</td>\n",
       "      <td>5.311952</td>\n",
       "      <td>Room</td>\n",
       "      <td>1</td>\n",
       "      <td>600</td>\n",
       "      <td>1</td>\n",
       "      <td>500.3500</td>\n",
       "    </tr>\n",
       "    <tr>\n",
       "      <th>12827</th>\n",
       "      <td>12</td>\n",
       "      <td>Unfurnished</td>\n",
       "      <td>52.010965</td>\n",
       "      <td>4.336536</td>\n",
       "      <td>Student residence</td>\n",
       "      <td>4</td>\n",
       "      <td>395</td>\n",
       "      <td>1</td>\n",
       "      <td>414.0500</td>\n",
       "    </tr>\n",
       "    <tr>\n",
       "      <th>12828</th>\n",
       "      <td>16</td>\n",
       "      <td>Uncarpeted</td>\n",
       "      <td>52.008520</td>\n",
       "      <td>4.390628</td>\n",
       "      <td>Room</td>\n",
       "      <td>2</td>\n",
       "      <td>425</td>\n",
       "      <td>1</td>\n",
       "      <td>458.5500</td>\n",
       "    </tr>\n",
       "    <tr>\n",
       "      <th>12829</th>\n",
       "      <td>21</td>\n",
       "      <td>Unfurnished</td>\n",
       "      <td>51.906095</td>\n",
       "      <td>4.445226</td>\n",
       "      <td>Room</td>\n",
       "      <td>2</td>\n",
       "      <td>695</td>\n",
       "      <td>1</td>\n",
       "      <td>580.1500</td>\n",
       "    </tr>\n",
       "  </tbody>\n",
       "</table>\n",
       "<p>12830 rows × 9 columns</p>\n",
       "</div>"
      ],
      "text/plain": [
       "       areaSqm      furnish   latitude  longitude       propertyType  \\\n",
       "0           14  Unfurnished  51.896601   4.514993               Room   \n",
       "1           30    Furnished  52.370200   4.920721             Studio   \n",
       "2           11    Furnished  52.350880   4.854786               Room   \n",
       "3           16  Unfurnished  53.013494   6.561012               Room   \n",
       "4           22  Unfurnished  51.932871   4.479732               Room   \n",
       "...        ...          ...        ...        ...                ...   \n",
       "12825       35  Unfurnished  52.368030   5.205308               Room   \n",
       "12826       10    Furnished  51.690365   5.311952               Room   \n",
       "12827       12  Unfurnished  52.010965   4.336536  Student residence   \n",
       "12828       16   Uncarpeted  52.008520   4.390628               Room   \n",
       "12829       21  Unfurnished  51.906095   4.445226               Room   \n",
       "\n",
       "       roommates  rent  shared      Label  \n",
       "0              5   500       1   494.2500  \n",
       "1              0   950       0  1021.1833  \n",
       "2              1  1000       1   940.1000  \n",
       "3              4   290       1   307.3700  \n",
       "4              1   475       1   459.7200  \n",
       "...          ...   ...     ...        ...  \n",
       "12825          1   750       1   726.0500  \n",
       "12826          1   600       1   500.3500  \n",
       "12827          4   395       1   414.0500  \n",
       "12828          2   425       1   458.5500  \n",
       "12829          2   695       1   580.1500  \n",
       "\n",
       "[12830 rows x 9 columns]"
      ]
     },
     "execution_count": 21,
     "metadata": {},
     "output_type": "execute_result"
    }
   ],
   "source": [
    "label_df"
   ]
  },
  {
   "cell_type": "code",
   "execution_count": 24,
   "metadata": {},
   "outputs": [],
   "source": [
    "columns = data.columns"
   ]
  },
  {
   "cell_type": "code",
   "execution_count": null,
   "metadata": {},
   "outputs": [],
   "source": []
  }
 ],
 "metadata": {
  "kernelspec": {
   "display_name": "Python 3",
   "language": "python",
   "name": "python3"
  },
  "language_info": {
   "codemirror_mode": {
    "name": "ipython",
    "version": 3
   },
   "file_extension": ".py",
   "mimetype": "text/x-python",
   "name": "python",
   "nbconvert_exporter": "python",
   "pygments_lexer": "ipython3",
   "version": "3.7.3"
  },
  "toc": {
   "base_numbering": 1,
   "nav_menu": {},
   "number_sections": true,
   "sideBar": true,
   "skip_h1_title": false,
   "title_cell": "Table of Contents",
   "title_sidebar": "Contents",
   "toc_cell": false,
   "toc_position": {},
   "toc_section_display": true,
   "toc_window_display": true
  },
  "varInspector": {
   "cols": {
    "lenName": 16,
    "lenType": 16,
    "lenVar": 40
   },
   "kernels_config": {
    "python": {
     "delete_cmd_postfix": "",
     "delete_cmd_prefix": "del ",
     "library": "var_list.py",
     "varRefreshCmd": "print(var_dic_list())"
    },
    "r": {
     "delete_cmd_postfix": ") ",
     "delete_cmd_prefix": "rm(",
     "library": "var_list.r",
     "varRefreshCmd": "cat(var_dic_list()) "
    }
   },
   "types_to_exclude": [
    "module",
    "function",
    "builtin_function_or_method",
    "instance",
    "_Feature"
   ],
   "window_display": false
  }
 },
 "nbformat": 4,
 "nbformat_minor": 4
}
