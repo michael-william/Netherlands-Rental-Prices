{
 "cells": [
  {
   "cell_type": "markdown",
   "metadata": {},
   "source": [
    "# Introduction\n",
    "State notebook purpose here"
   ]
  },
  {
   "cell_type": "markdown",
   "metadata": {},
   "source": [
    "### Imports\n",
    "Import libraries and write settings here."
   ]
  },
  {
   "cell_type": "code",
   "execution_count": 2,
   "metadata": {},
   "outputs": [
    {
     "data": {
      "text/html": [
       "        <script type=\"text/javascript\">\n",
       "        window.PlotlyConfig = {MathJaxConfig: 'local'};\n",
       "        if (window.MathJax) {MathJax.Hub.Config({SVG: {font: \"STIX-Web\"}});}\n",
       "        if (typeof require !== 'undefined') {\n",
       "        require.undef(\"plotly\");\n",
       "        requirejs.config({\n",
       "            paths: {\n",
       "                'plotly': ['https://cdn.plot.ly/plotly-latest.min']\n",
       "            }\n",
       "        });\n",
       "        require(['plotly'], function(Plotly) {\n",
       "            window._Plotly = Plotly;\n",
       "        });\n",
       "        }\n",
       "        </script>\n",
       "        "
      ]
     },
     "metadata": {},
     "output_type": "display_data"
    }
   ],
   "source": [
    "# Data manipulation\n",
    "import pandas as pd\n",
    "import numpy as np\n",
    "from collections import defaultdict\n",
    "\n",
    "# Visualizations\n",
    "import chart_studio.plotly as py\n",
    "import plotly.graph_objs as go\n",
    "from plotly.offline import iplot, init_notebook_mode\n",
    "init_notebook_mode(connected=True)\n",
    "\n",
    "import dash\n",
    "import dash_core_components as dcc\n",
    "import dash_html_components as html\n",
    "from dash.dependencies import Input,Output"
   ]
  },
  {
   "cell_type": "code",
   "execution_count": 3,
   "metadata": {},
   "outputs": [],
   "source": [
    "df = pd.read_json('/Users/michaelcondon/Desktop/Projects_files/Data_Science/properties.json', lines=True)"
   ]
  },
  {
   "cell_type": "code",
   "execution_count": 4,
   "metadata": {},
   "outputs": [],
   "source": [
    "df2 = df[['externalId', 'areaRaw','areaSqm', 'city', 'coverImageUrl', 'furnish','propertyType','rent', 'postalCode', 'internet', 'isRoomActive', 'kitchen', 'living', 'toilet', 'shower']]"
   ]
  },
  {
   "cell_type": "code",
   "execution_count": 45,
   "metadata": {},
   "outputs": [
    {
     "name": "stderr",
     "output_type": "stream",
     "text": [
      "/Users/michaelcondon/anaconda3/lib/python3.7/site-packages/ipykernel_launcher.py:1: SettingWithCopyWarning:\n",
      "\n",
      "\n",
      "A value is trying to be set on a copy of a slice from a DataFrame\n",
      "\n",
      "See the caveats in the documentation: http://pandas.pydata.org/pandas-docs/stable/indexing.html#indexing-view-versus-copy\n",
      "\n"
     ]
    }
   ],
   "source": [
    "df2.sort_values('areaSqm', inplace=True)"
   ]
  },
  {
   "cell_type": "code",
   "execution_count": 61,
   "metadata": {},
   "outputs": [
    {
     "data": {
      "text/html": [
       "<div>\n",
       "<style scoped>\n",
       "    .dataframe tbody tr th:only-of-type {\n",
       "        vertical-align: middle;\n",
       "    }\n",
       "\n",
       "    .dataframe tbody tr th {\n",
       "        vertical-align: top;\n",
       "    }\n",
       "\n",
       "    .dataframe thead th {\n",
       "        text-align: right;\n",
       "    }\n",
       "</style>\n",
       "<table border=\"1\" class=\"dataframe\">\n",
       "  <thead>\n",
       "    <tr style=\"text-align: right;\">\n",
       "      <th></th>\n",
       "      <th>externalId</th>\n",
       "      <th>areaRaw</th>\n",
       "      <th>areaSqm</th>\n",
       "      <th>city</th>\n",
       "      <th>coverImageUrl</th>\n",
       "      <th>furnish</th>\n",
       "      <th>propertyType</th>\n",
       "      <th>rent</th>\n",
       "      <th>postalCode</th>\n",
       "      <th>internet</th>\n",
       "      <th>isRoomActive</th>\n",
       "      <th>kitchen</th>\n",
       "      <th>living</th>\n",
       "      <th>toilet</th>\n",
       "      <th>shower</th>\n",
       "    </tr>\n",
       "  </thead>\n",
       "  <tbody>\n",
       "    <tr>\n",
       "      <th>32622</th>\n",
       "      <td>room-1327659</td>\n",
       "      <td>6 m2</td>\n",
       "      <td>6</td>\n",
       "      <td>Venlo</td>\n",
       "      <td>https://resources.kamernet.nl/image/0f6b77e5-d...</td>\n",
       "      <td>Furnished</td>\n",
       "      <td>Room</td>\n",
       "      <td>199</td>\n",
       "      <td>5915CH</td>\n",
       "      <td>Yes</td>\n",
       "      <td>true</td>\n",
       "      <td>Shared</td>\n",
       "      <td>Shared</td>\n",
       "      <td>Shared</td>\n",
       "      <td>Shared</td>\n",
       "    </tr>\n",
       "    <tr>\n",
       "      <th>45539</th>\n",
       "      <td>room-1773575</td>\n",
       "      <td>6 m2</td>\n",
       "      <td>6</td>\n",
       "      <td>Amsterdam</td>\n",
       "      <td>https://resources.kamernet.nl/image/b9fc16c2-6...</td>\n",
       "      <td>Furnished</td>\n",
       "      <td>Room</td>\n",
       "      <td>645</td>\n",
       "      <td>1063GG</td>\n",
       "      <td>Yes</td>\n",
       "      <td>true</td>\n",
       "      <td>Shared</td>\n",
       "      <td>None</td>\n",
       "      <td>Shared</td>\n",
       "      <td>Shared</td>\n",
       "    </tr>\n",
       "    <tr>\n",
       "      <th>26143</th>\n",
       "      <td>room-1727297</td>\n",
       "      <td>6 m2</td>\n",
       "      <td>6</td>\n",
       "      <td>Utrecht</td>\n",
       "      <td>https://resources.kamernet.nl/image/ed744910-6...</td>\n",
       "      <td>Unfurnished</td>\n",
       "      <td>Room</td>\n",
       "      <td>350</td>\n",
       "      <td>3543JR</td>\n",
       "      <td>No</td>\n",
       "      <td>true</td>\n",
       "      <td>Shared</td>\n",
       "      <td>None</td>\n",
       "      <td>Shared</td>\n",
       "      <td>Shared</td>\n",
       "    </tr>\n",
       "    <tr>\n",
       "      <th>10478</th>\n",
       "      <td>room-1700213</td>\n",
       "      <td>6 m2</td>\n",
       "      <td>6</td>\n",
       "      <td>Ede</td>\n",
       "      <td>https://resources.kamernet.nl/image/3d437b07-2...</td>\n",
       "      <td>Unfurnished</td>\n",
       "      <td>Room</td>\n",
       "      <td>210</td>\n",
       "      <td>6715GD</td>\n",
       "      <td>Yes</td>\n",
       "      <td>true</td>\n",
       "      <td>Shared</td>\n",
       "      <td>Shared</td>\n",
       "      <td>Shared</td>\n",
       "      <td>Shared</td>\n",
       "    </tr>\n",
       "    <tr>\n",
       "      <th>40892</th>\n",
       "      <td>room-1759527</td>\n",
       "      <td>6 m2</td>\n",
       "      <td>6</td>\n",
       "      <td>Delft</td>\n",
       "      <td>https://resources.kamernet.nl/image/16a05a58-0...</td>\n",
       "      <td>Furnished</td>\n",
       "      <td>Room</td>\n",
       "      <td>230</td>\n",
       "      <td>2612HC</td>\n",
       "      <td>Yes</td>\n",
       "      <td>true</td>\n",
       "      <td>Shared</td>\n",
       "      <td>Shared</td>\n",
       "      <td>Shared</td>\n",
       "      <td>Shared</td>\n",
       "    </tr>\n",
       "  </tbody>\n",
       "</table>\n",
       "</div>"
      ],
      "text/plain": [
       "         externalId areaRaw  areaSqm       city  \\\n",
       "32622  room-1327659    6 m2        6      Venlo   \n",
       "45539  room-1773575    6 m2        6  Amsterdam   \n",
       "26143  room-1727297    6 m2        6    Utrecht   \n",
       "10478  room-1700213    6 m2        6        Ede   \n",
       "40892  room-1759527    6 m2        6      Delft   \n",
       "\n",
       "                                           coverImageUrl      furnish  \\\n",
       "32622  https://resources.kamernet.nl/image/0f6b77e5-d...    Furnished   \n",
       "45539  https://resources.kamernet.nl/image/b9fc16c2-6...    Furnished   \n",
       "26143  https://resources.kamernet.nl/image/ed744910-6...  Unfurnished   \n",
       "10478  https://resources.kamernet.nl/image/3d437b07-2...  Unfurnished   \n",
       "40892  https://resources.kamernet.nl/image/16a05a58-0...    Furnished   \n",
       "\n",
       "      propertyType  rent postalCode internet isRoomActive kitchen  living  \\\n",
       "32622         Room   199     5915CH      Yes         true  Shared  Shared   \n",
       "45539         Room   645     1063GG      Yes         true  Shared    None   \n",
       "26143         Room   350     3543JR       No         true  Shared    None   \n",
       "10478         Room   210     6715GD      Yes         true  Shared  Shared   \n",
       "40892         Room   230     2612HC      Yes         true  Shared  Shared   \n",
       "\n",
       "       toilet  shower  \n",
       "32622  Shared  Shared  \n",
       "45539  Shared  Shared  \n",
       "26143  Shared  Shared  \n",
       "10478  Shared  Shared  \n",
       "40892  Shared  Shared  "
      ]
     },
     "execution_count": 61,
     "metadata": {},
     "output_type": "execute_result"
    }
   ],
   "source": [
    "df2.head()"
   ]
  },
  {
   "cell_type": "code",
   "execution_count": 46,
   "metadata": {},
   "outputs": [],
   "source": [
    "cities = df2.city.unique()\n",
    "furnished = df2.furnish.unique()\n",
    "property_type = df2.propertyType.unique()"
   ]
  },
  {
   "cell_type": "code",
   "execution_count": 47,
   "metadata": {},
   "outputs": [],
   "source": [
    "\n",
    "areaRaw = df2.areaRaw.unique()\n",
    "areaSqm = df2.areaSqm.unique()"
   ]
  },
  {
   "cell_type": "code",
   "execution_count": 48,
   "metadata": {},
   "outputs": [],
   "source": [
    "areazip = (zip(areaRaw,areaSqm))\n",
    "area=defaultdict(list)\n"
   ]
  },
  {
   "cell_type": "code",
   "execution_count": 49,
   "metadata": {},
   "outputs": [],
   "source": [
    "for k,v in areazip:\n",
    "      area[k].append(v)"
   ]
  },
  {
   "cell_type": "code",
   "execution_count": 65,
   "metadata": {},
   "outputs": [
    {
     "name": "stderr",
     "output_type": "stream",
     "text": [
      "/Users/michaelcondon/anaconda3/lib/python3.7/site-packages/ipykernel_launcher.py:1: UserWarning:\n",
      "\n",
      "Boolean Series key will be reindexed to match DataFrame index.\n",
      "\n"
     ]
    }
   ],
   "source": [
    "df3 = df2[(df2.areaSqm > 50) & (df2.areaSqm<60)][df2.city=='Amsterdam'][df2.furnish=='Furnished']"
   ]
  },
  {
   "cell_type": "code",
   "execution_count": 68,
   "metadata": {},
   "outputs": [
    {
     "data": {
      "text/html": [
       "<div>\n",
       "<style scoped>\n",
       "    .dataframe tbody tr th:only-of-type {\n",
       "        vertical-align: middle;\n",
       "    }\n",
       "\n",
       "    .dataframe tbody tr th {\n",
       "        vertical-align: top;\n",
       "    }\n",
       "\n",
       "    .dataframe thead th {\n",
       "        text-align: right;\n",
       "    }\n",
       "</style>\n",
       "<table border=\"1\" class=\"dataframe\">\n",
       "  <thead>\n",
       "    <tr style=\"text-align: right;\">\n",
       "      <th></th>\n",
       "      <th>areaSqm</th>\n",
       "      <th>rent</th>\n",
       "    </tr>\n",
       "  </thead>\n",
       "  <tbody>\n",
       "    <tr>\n",
       "      <th>count</th>\n",
       "      <td>236.000000</td>\n",
       "      <td>236.000000</td>\n",
       "    </tr>\n",
       "    <tr>\n",
       "      <th>mean</th>\n",
       "      <td>55.008475</td>\n",
       "      <td>1408.542373</td>\n",
       "    </tr>\n",
       "    <tr>\n",
       "      <th>std</th>\n",
       "      <td>1.924073</td>\n",
       "      <td>315.084673</td>\n",
       "    </tr>\n",
       "    <tr>\n",
       "      <th>min</th>\n",
       "      <td>51.000000</td>\n",
       "      <td>610.000000</td>\n",
       "    </tr>\n",
       "    <tr>\n",
       "      <th>25%</th>\n",
       "      <td>54.000000</td>\n",
       "      <td>1250.000000</td>\n",
       "    </tr>\n",
       "    <tr>\n",
       "      <th>50%</th>\n",
       "      <td>55.000000</td>\n",
       "      <td>1500.000000</td>\n",
       "    </tr>\n",
       "    <tr>\n",
       "      <th>75%</th>\n",
       "      <td>56.000000</td>\n",
       "      <td>1600.000000</td>\n",
       "    </tr>\n",
       "    <tr>\n",
       "      <th>max</th>\n",
       "      <td>59.000000</td>\n",
       "      <td>2250.000000</td>\n",
       "    </tr>\n",
       "  </tbody>\n",
       "</table>\n",
       "</div>"
      ],
      "text/plain": [
       "          areaSqm         rent\n",
       "count  236.000000   236.000000\n",
       "mean    55.008475  1408.542373\n",
       "std      1.924073   315.084673\n",
       "min     51.000000   610.000000\n",
       "25%     54.000000  1250.000000\n",
       "50%     55.000000  1500.000000\n",
       "75%     56.000000  1600.000000\n",
       "max     59.000000  2250.000000"
      ]
     },
     "execution_count": 68,
     "metadata": {},
     "output_type": "execute_result"
    }
   ],
   "source": [
    "df3.describe()"
   ]
  },
  {
   "cell_type": "markdown",
   "metadata": {},
   "source": [
    "# Layout"
   ]
  },
  {
   "cell_type": "code",
   "execution_count": 7,
   "metadata": {},
   "outputs": [],
   "source": [
    "app = dash.Dash()"
   ]
  },
  {
   "cell_type": "code",
   "execution_count": 11,
   "metadata": {},
   "outputs": [],
   "source": [
    "app.layout = html.Div([\n",
    "                dcc.Input(\n",
    "                        id='your_name',\n",
    "                        value='Your name',\n",
    "                        type = 'text',\n",
    "                        style={'fontSize':14, 'width': '50%'}\n",
    "                        ),\n",
    "                dcc.Dropdown(\n",
    "                        id='your_position',\n",
    "                        options = position_options,\n",
    "                        value='Account Manager',\n",
    "                        style={'fontSize':14, 'width':'50%'}\n",
    "                        ),\n",
    "                dcc.Dropdown(\n",
    "                        id='your_region',\n",
    "                        options = region_options,\n",
    "                        value='EMEA',\n",
    "                        style={'fontSize':14, 'width':'50%'}\n",
    "                        ),\n",
    "                dcc.Dropdown(\n",
    "                        id='your_country',\n",
    "                        options = country_options,\n",
    "                        value='Netherlands',\n",
    "                        style={'fontSize':14, 'width':'50%'}\n",
    "                        ),\n",
    "                dcc.Dropdown(\n",
    "                        id='your_city',\n",
    "                        value='Amsterdam',\n",
    "                        style={'fontSize':14, 'width':'50%'}\n",
    "                        ),\n",
    "                html.H1(),\n",
    "                html.Div(id='market_research', children=\"Market Research\", style={}),\n",
    "                dcc.Input(\n",
    "                        id='market_research_monthly',\n",
    "                        value='number of time completed per month',\n",
    "                        type = 'number',\n",
    "                        style={'fontSize':14, 'width': '50%'}\n",
    "                        ),\n",
    "                \n",
    "                html.Button(\n",
    "                        id='submit-button',\n",
    "                        n_clicks=0,\n",
    "                        children='Submit',\n",
    "                        style={'fontSize':28}\n",
    "                        ),\n",
    "])"
   ]
  },
  {
   "cell_type": "markdown",
   "metadata": {},
   "source": [
    "# Callbacks"
   ]
  },
  {
   "cell_type": "code",
   "execution_count": 9,
   "metadata": {},
   "outputs": [],
   "source": [
    "#Call back to filter city options based on country selection\n",
    "@app.callback(\n",
    "    Output('your_city', 'options'),\n",
    "    [Input('your_country', 'value')])\n",
    "def set_cities_options(selected_country):\n",
    "    return [{'label': i, 'value': i} for i in location_dict[selected_country]]\n"
   ]
  },
  {
   "cell_type": "markdown",
   "metadata": {},
   "source": [
    "# Run App"
   ]
  },
  {
   "cell_type": "code",
   "execution_count": null,
   "metadata": {
    "scrolled": true
   },
   "outputs": [
    {
     "name": "stdout",
     "output_type": "stream",
     "text": [
      " * Serving Flask app \"__main__\" (lazy loading)\n",
      " * Environment: production\n",
      "   WARNING: This is a development server. Do not use it in a production deployment.\n",
      "   Use a production WSGI server instead.\n",
      " * Debug mode: off\n"
     ]
    },
    {
     "name": "stderr",
     "output_type": "stream",
     "text": [
      " * Running on http://127.0.0.1:8050/ (Press CTRL+C to quit)\n",
      "127.0.0.1 - - [06/Apr/2020 18:18:45] \"GET / HTTP/1.1\" 200 -\n",
      "127.0.0.1 - - [06/Apr/2020 18:18:45] \"GET /_dash-dependencies HTTP/1.1\" 200 -\n",
      "127.0.0.1 - - [06/Apr/2020 18:18:45] \"GET /_dash-layout HTTP/1.1\" 200 -\n",
      "127.0.0.1 - - [06/Apr/2020 18:18:45] \"POST /_dash-update-component HTTP/1.1\" 200 -\n",
      "127.0.0.1 - - [06/Apr/2020 18:18:48] \"POST /_dash-update-component HTTP/1.1\" 200 -\n"
     ]
    }
   ],
   "source": [
    "if __name__ == '__main__':\n",
    "    app.run_server()"
   ]
  },
  {
   "cell_type": "code",
   "execution_count": null,
   "metadata": {},
   "outputs": [],
   "source": []
  }
 ],
 "metadata": {
  "kernelspec": {
   "display_name": "Python 3",
   "language": "python",
   "name": "python3"
  },
  "language_info": {
   "codemirror_mode": {
    "name": "ipython",
    "version": 3
   },
   "file_extension": ".py",
   "mimetype": "text/x-python",
   "name": "python",
   "nbconvert_exporter": "python",
   "pygments_lexer": "ipython3",
   "version": "3.7.3"
  },
  "varInspector": {
   "cols": {
    "lenName": 16,
    "lenType": 16,
    "lenVar": 40
   },
   "kernels_config": {
    "python": {
     "delete_cmd_postfix": "",
     "delete_cmd_prefix": "del ",
     "library": "var_list.py",
     "varRefreshCmd": "print(var_dic_list())"
    },
    "r": {
     "delete_cmd_postfix": ") ",
     "delete_cmd_prefix": "rm(",
     "library": "var_list.r",
     "varRefreshCmd": "cat(var_dic_list()) "
    }
   },
   "types_to_exclude": [
    "module",
    "function",
    "builtin_function_or_method",
    "instance",
    "_Feature"
   ],
   "window_display": false
  }
 },
 "nbformat": 4,
 "nbformat_minor": 4
}
